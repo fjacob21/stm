{
 "cells": [
  {
   "cell_type": "code",
   "execution_count": 1,
   "metadata": {},
   "outputs": [],
   "source": [
    "from stm import stm\n",
    "from google.transit import gtfs_realtime_pb2\n",
    "import requests\n",
    "import geopy.distance\n",
    "import datetime\n",
    "from dateutils import build_datetime"
   ]
  },
  {
   "cell_type": "code",
   "execution_count": 2,
   "metadata": {},
   "outputs": [],
   "source": [
    "stop_1_east = '57533'\n",
    "stop_0_west = '57520'"
   ]
  },
  {
   "cell_type": "code",
   "execution_count": 15,
   "metadata": {},
   "outputs": [
    {
     "data": {
      "text/plain": [
       "57033"
      ]
     },
     "execution_count": 15,
     "metadata": {},
     "output_type": "execute_result"
    }
   ],
   "source": [
    "headers = {'apikey': 'l7xx1a8dc791604f40f3836424d7d9b3cce4'}\n",
    "rp = requests.post('https://api.stm.info/pub/od/gtfs-rt/ic/v1/vehiclePositions', headers=headers)\n",
    "ru = requests.post('https://api.stm.info/pub/od/gtfs-rt/ic/v1/tripUpdates', headers=headers)\n",
    "rp_feed = gtfs_realtime_pb2.FeedMessage()\n",
    "ru_feed = gtfs_realtime_pb2.FeedMessage()\n",
    "rp_feed.ParseFromString(rp.content)\n",
    "ru_feed.ParseFromString(ru.content)"
   ]
  },
  {
   "cell_type": "code",
   "execution_count": 4,
   "metadata": {},
   "outputs": [
    {
     "name": "stdout",
     "output_type": "stream",
     "text": [
      "-->Load data\n",
      "-->Build trips\n",
      "<--Build trips 9.737742900848389\n",
      "-->Build routes\n",
      "<--Build routes 4.356157064437866\n",
      "-->Sort routes\n",
      "<--Sort routes 0.17147207260131836\n",
      "<--Load data 298.21354389190674\n"
     ]
    }
   ],
   "source": [
    "stm_data = stm()"
   ]
  },
  {
   "cell_type": "code",
   "execution_count": 16,
   "metadata": {},
   "outputs": [],
   "source": [
    "i = 0\n",
    "n = datetime.datetime.now()\n",
    "for e in rp_feed.entity:\n",
    "    if e.vehicle.trip.route_id == '215':\n",
    "        print(e)\n",
    "        trip_id = e.vehicle.trip.trip_id\n",
    "        current_stop_sequence = e.vehicle.current_stop_sequence\n",
    "        trip = stm_data.trips[trip_id]['trip']\n",
    "        v_trip = stm_data._stop_times.stop_times[trip_id]\n",
    "        is_outbound = trip.direction_id=='0'\n",
    "        #tr = stm_data.get_current_schedule('215', not is_outbound)\n",
    "        stop_time = v_trip[current_stop_sequence-1]\n",
    "        stop = stm_data._stops.stops[stop_time.stop_id]\n",
    "        coords_1 = (stop.stop_lat, stop.stop_lon)\n",
    "        coords_2 = (e.vehicle.position.latitude, e.vehicle.position.longitude)\n",
    "        vtime = datetime.datetime.fromtimestamp(e.vehicle.timestamp)\n",
    "        start = build_datetime(n.year, n.month, n.day, stop_time.arrival_time[0], stop_time.arrival_time[1], stop_time.arrival_time[2])\n",
    "        if vtime > start:\n",
    "            if e.vehicle.current_status not in [e.vehicle.INCOMING_AT, e.vehicle.STOPPED_AT]:\n",
    "                print('late')\n",
    "            delay = vtime-start\n",
    "        else:\n",
    "            print('early')\n",
    "            delay = start- vtime\n",
    "        print(e.vehicle.VehicleStopStatus.keys()[e.vehicle.current_status],current_stop_sequence, delay, trip_id,stop.stop_lat, stop.stop_lon, e.vehicle.position.latitude, e.vehicle.position.longitude, geopy.distance.geodesic(coords_1, coords_2).km)\n",
    "#         trip = stm_data._trips.trips[trip_id]\n",
    "#         st = stm_data._stop_times.get_stop(trip_id, current_stop_sequence)\n",
    "#         s = stm_data._stops.stops[st.stop_id]\n",
    "#         coords_1 = (e.vehicle.position.latitude, e.vehicle.position.longitude)\n",
    "#         coords_2 = (s.stop_lat, s.stop_lon)\n",
    "\n",
    "        #print(trip.direction_id, trip_id,geopy.distance.geodesic(coords_1, coords_2).km)\n",
    "       # print(s, trip.direction_id, trip_id, current_stop_sequence, e.vehicle.position.latitude, e.vehicle.position.longitude)\n",
    "    i += 1"
   ]
  },
  {
   "cell_type": "code",
   "execution_count": null,
   "metadata": {},
   "outputs": [],
   "source": [
    "stm_data.get_current_schedule('215', True)"
   ]
  },
  {
   "cell_type": "code",
   "execution_count": 10,
   "metadata": {},
   "outputs": [],
   "source": [
    "trips = {}\n",
    "for trip_id in stm_data.trips:\n",
    "    trip = stm_data.trips[trip_id]\n",
    "    calendar = stm_data._calendars.calendars[trip.service_id]\n",
    "    if datetime.date.today() < calendar.end_date:\n",
    "        trip_info = {'trip': trip, 'stops':[]}\n",
    "        stop_times = stm_data._stop_times.stop_times[trip.trip_id]\n",
    "        stops = []\n",
    "        for stop_time in stop_times:\n",
    "            stops.append({'stop_time': stop_time, 'stop':stm_data._stops.stops[stop_time.stop_id]})\n",
    "        stops = sorted(stops , key=lambda k: k['stop_time'].departure_time)\n",
    "        trip_info['stops'] = stops\n",
    "        trips[trip_id] = trip_info\n",
    "            "
   ]
  },
  {
   "cell_type": "code",
   "execution_count": 143,
   "metadata": {},
   "outputs": [
    {
     "name": "stdout",
     "output_type": "stream",
     "text": [
      "190425603 51\n"
     ]
    }
   ],
   "source": [
    "for t in stm_data.get_current_schedule('215', True):\n",
    "    print(t['id'], len(t['stops']))"
   ]
  },
  {
   "cell_type": "code",
   "execution_count": 5,
   "metadata": {},
   "outputs": [
    {
     "ename": "NameError",
     "evalue": "name 'trips' is not defined",
     "output_type": "error",
     "traceback": [
      "\u001b[0;31m---------------------------------------------------------------------------\u001b[0m",
      "\u001b[0;31mNameError\u001b[0m                                 Traceback (most recent call last)",
      "\u001b[0;32m<ipython-input-5-9fe054ff6a2d>\u001b[0m in \u001b[0;36m<module>\u001b[0;34m()\u001b[0m\n\u001b[0;32m----> 1\u001b[0;31m \u001b[0;32mfor\u001b[0m \u001b[0ms\u001b[0m \u001b[0;32min\u001b[0m \u001b[0mtrips\u001b[0m\u001b[0;34m[\u001b[0m\u001b[0;34m'190425806'\u001b[0m\u001b[0;34m]\u001b[0m\u001b[0;34m[\u001b[0m\u001b[0;34m'stops'\u001b[0m\u001b[0;34m]\u001b[0m\u001b[0;34m:\u001b[0m\u001b[0;34m\u001b[0m\u001b[0;34m\u001b[0m\u001b[0m\n\u001b[0m\u001b[1;32m      2\u001b[0m     \u001b[0;32mif\u001b[0m \u001b[0ms\u001b[0m\u001b[0;34m[\u001b[0m\u001b[0;34m'stop'\u001b[0m\u001b[0;34m]\u001b[0m\u001b[0;34m.\u001b[0m\u001b[0mstop_id\u001b[0m \u001b[0;34m==\u001b[0m \u001b[0mstop_0_west\u001b[0m\u001b[0;34m:\u001b[0m\u001b[0;34m\u001b[0m\u001b[0;34m\u001b[0m\u001b[0m\n\u001b[1;32m      3\u001b[0m         \u001b[0mprint\u001b[0m\u001b[0;34m(\u001b[0m\u001b[0ms\u001b[0m\u001b[0;34m)\u001b[0m\u001b[0;34m\u001b[0m\u001b[0;34m\u001b[0m\u001b[0m\n",
      "\u001b[0;31mNameError\u001b[0m: name 'trips' is not defined"
     ]
    }
   ],
   "source": [
    "for s in trips['190425806']['stops']:\n",
    "    if s['stop'].stop_id == stop_0_west:\n",
    "        print(s)"
   ]
  },
  {
   "cell_type": "code",
   "execution_count": 61,
   "metadata": {},
   "outputs": [],
   "source": []
  },
  {
   "cell_type": "code",
   "execution_count": 27,
   "metadata": {},
   "outputs": [],
   "source": [
    "from pyroutelib3 import Router"
   ]
  },
  {
   "cell_type": "code",
   "execution_count": 28,
   "metadata": {},
   "outputs": [],
   "source": [
    "router = Router(\"car\")"
   ]
  },
  {
   "cell_type": "code",
   "execution_count": 29,
   "metadata": {},
   "outputs": [],
   "source": [
    "start = router.findNode(45.502204, -73.737934)"
   ]
  },
  {
   "cell_type": "code",
   "execution_count": 30,
   "metadata": {},
   "outputs": [],
   "source": [
    "end = router.findNode(45.50243377685547, -73.736083984375)"
   ]
  },
  {
   "cell_type": "code",
   "execution_count": 31,
   "metadata": {},
   "outputs": [],
   "source": [
    "status, route = router.doRoute(start, end)"
   ]
  },
  {
   "cell_type": "code",
   "execution_count": 32,
   "metadata": {},
   "outputs": [
    {
     "data": {
      "text/plain": [
       "'success'"
      ]
     },
     "execution_count": 32,
     "metadata": {},
     "output_type": "execute_result"
    }
   ],
   "source": [
    "status"
   ]
  },
  {
   "cell_type": "code",
   "execution_count": 39,
   "metadata": {},
   "outputs": [],
   "source": [
    "r = route[0]"
   ]
  },
  {
   "cell_type": "code",
   "execution_count": 43,
   "metadata": {},
   "outputs": [
    {
     "ename": "TypeError",
     "evalue": "report() takes 1 positional argument but 2 were given",
     "output_type": "error",
     "traceback": [
      "\u001b[0;31m---------------------------------------------------------------------------\u001b[0m",
      "\u001b[0;31mTypeError\u001b[0m                                 Traceback (most recent call last)",
      "\u001b[0;32m<ipython-input-43-55f34734fcc2>\u001b[0m in \u001b[0;36m<module>\u001b[0;34m()\u001b[0m\n\u001b[0;32m----> 1\u001b[0;31m \u001b[0mlist\u001b[0m\u001b[0;34m(\u001b[0m\u001b[0mmap\u001b[0m\u001b[0;34m(\u001b[0m\u001b[0mrouter\u001b[0m\u001b[0;34m.\u001b[0m\u001b[0mreport\u001b[0m\u001b[0;34m,\u001b[0m \u001b[0mroute\u001b[0m\u001b[0;34m)\u001b[0m\u001b[0;34m)\u001b[0m\u001b[0;34m\u001b[0m\u001b[0;34m\u001b[0m\u001b[0m\n\u001b[0m",
      "\u001b[0;31mTypeError\u001b[0m: report() takes 1 positional argument but 2 were given"
     ]
    }
   ],
   "source": [
    "list(map(router.report, route))"
   ]
  },
  {
   "cell_type": "code",
   "execution_count": 41,
   "metadata": {},
   "outputs": [
    {
     "data": {
      "text/plain": [
       "4332049618"
      ]
     },
     "execution_count": 41,
     "metadata": {},
     "output_type": "execute_result"
    }
   ],
   "source": [
    "r"
   ]
  },
  {
   "cell_type": "code",
   "execution_count": 54,
   "metadata": {},
   "outputs": [
    {
     "data": {
      "text/plain": [
       "datetime.datetime(2019, 3, 6, 22, 16, 46)"
      ]
     },
     "execution_count": 54,
     "metadata": {},
     "output_type": "execute_result"
    }
   ],
   "source": [
    "datetime.datetime.fromtimestamp(1551928606)"
   ]
  },
  {
   "cell_type": "code",
   "execution_count": 77,
   "metadata": {},
   "outputs": [],
   "source": [
    "e = rp_feed.entity[0]"
   ]
  },
  {
   "cell_type": "code",
   "execution_count": 92,
   "metadata": {},
   "outputs": [
    {
     "data": {
      "text/plain": [
       "<google.protobuf.internal.enum_type_wrapper.EnumTypeWrapper at 0x102dd2048>"
      ]
     },
     "execution_count": 92,
     "metadata": {},
     "output_type": "execute_result"
    }
   ],
   "source": [
    "e.vehicle.VehicleStopStatus"
   ]
  },
  {
   "cell_type": "code",
   "execution_count": 83,
   "metadata": {},
   "outputs": [],
   "source": [
    "import google"
   ]
  },
  {
   "cell_type": "code",
   "execution_count": 84,
   "metadata": {},
   "outputs": [
    {
     "data": {
      "text/plain": [
       "2"
      ]
     },
     "execution_count": 84,
     "metadata": {},
     "output_type": "execute_result"
    }
   ],
   "source": [
    "google.transit.gtfs_realtime_pb2.VehiclePosition"
   ]
  },
  {
   "cell_type": "code",
   "execution_count": 128,
   "metadata": {},
   "outputs": [
    {
     "data": {
      "text/plain": [
       "['INCOMING_AT', 'STOPPED_AT', 'IN_TRANSIT_TO']"
      ]
     },
     "execution_count": 128,
     "metadata": {},
     "output_type": "execute_result"
    }
   ],
   "source": [
    "e.vehicle.VehicleStopStatus.keys()"
   ]
  },
  {
   "cell_type": "code",
   "execution_count": 104,
   "metadata": {},
   "outputs": [
    {
     "ename": "TypeError",
     "evalue": "items() missing 1 required positional argument: 'self'",
     "output_type": "error",
     "traceback": [
      "\u001b[0;31m---------------------------------------------------------------------------\u001b[0m",
      "\u001b[0;31mTypeError\u001b[0m                                 Traceback (most recent call last)",
      "\u001b[0;32m<ipython-input-104-cbe2e2284684>\u001b[0m in \u001b[0;36m<module>\u001b[0;34m()\u001b[0m\n\u001b[0;32m----> 1\u001b[0;31m \u001b[0mgoogle\u001b[0m\u001b[0;34m.\u001b[0m\u001b[0mprotobuf\u001b[0m\u001b[0;34m.\u001b[0m\u001b[0minternal\u001b[0m\u001b[0;34m.\u001b[0m\u001b[0menum_type_wrapper\u001b[0m\u001b[0;34m.\u001b[0m\u001b[0mEnumTypeWrapper\u001b[0m\u001b[0;34m.\u001b[0m\u001b[0mitems\u001b[0m\u001b[0;34m(\u001b[0m\u001b[0;34m)\u001b[0m\u001b[0;34m\u001b[0m\u001b[0;34m\u001b[0m\u001b[0m\n\u001b[0m",
      "\u001b[0;31mTypeError\u001b[0m: items() missing 1 required positional argument: 'self'"
     ]
    }
   ],
   "source": [
    "google.protobuf.internal.enum_type_wrapper.EnumTypeWrapper.items()"
   ]
  },
  {
   "cell_type": "code",
   "execution_count": 130,
   "metadata": {},
   "outputs": [
    {
     "data": {
      "text/plain": [
       "2"
      ]
     },
     "execution_count": 130,
     "metadata": {},
     "output_type": "execute_result"
    }
   ],
   "source": [
    "e.vehicle.IN_TRANSIT_TO"
   ]
  },
  {
   "cell_type": "code",
   "execution_count": null,
   "metadata": {},
   "outputs": [],
   "source": [
    "stm_data.trips['190429124']['stops']"
   ]
  },
  {
   "cell_type": "code",
   "execution_count": 19,
   "metadata": {},
   "outputs": [
    {
     "data": {
      "text/plain": [
       "header {\n",
       "  gtfs_realtime_version: \"1.0\"\n",
       "  incrementality: FULL_DATASET\n",
       "  timestamp: 1552010706\n",
       "}"
      ]
     },
     "execution_count": 19,
     "metadata": {},
     "output_type": "execute_result"
    }
   ],
   "source": [
    "rp_feed"
   ]
  },
  {
   "cell_type": "code",
   "execution_count": null,
   "metadata": {},
   "outputs": [],
   "source": []
  }
 ],
 "metadata": {
  "kernelspec": {
   "display_name": "Python 3",
   "language": "python",
   "name": "python3"
  },
  "language_info": {
   "codemirror_mode": {
    "name": "ipython",
    "version": 3
   },
   "file_extension": ".py",
   "mimetype": "text/x-python",
   "name": "python",
   "nbconvert_exporter": "python",
   "pygments_lexer": "ipython3",
   "version": "3.7.1"
  }
 },
 "nbformat": 4,
 "nbformat_minor": 2
}
