{
 "cells": [
  {
   "cell_type": "code",
   "execution_count": 4,
   "metadata": {},
   "outputs": [],
   "source": [
    "from google.transit import gtfs_realtime_pb2\n",
    "from agency import agencies\n",
    "from route import routes\n",
    "from trip import trips\n",
    "from stop import stops\n",
    "from stop_time import stop_times\n",
    "from calendars import calendars\n",
    "from calendar_date import calendar_dates\n",
    "from fare_attribute import fare_attributes\n",
    "from fare_rule import fare_rules\n",
    "from frequencie import frequencies\n",
    "from shapes import shapes\n",
    "import requests\n",
    "import datetime\n",
    "import geopy.distance\n",
    "import os\n",
    "import tempfile"
   ]
  },
  {
   "cell_type": "code",
   "execution_count": 2,
   "metadata": {},
   "outputs": [],
   "source": [
    "ags = agencies('./agency.txt')\n",
    "rts = routes('./routes.txt')\n",
    "trps = trips('./trips.txt')\n",
    "stps = stops('./stops.txt')\n",
    "stp_times = stop_times('./stop_times.txt')\n",
    "cals = calendars('./calendar.txt')\n",
    "cal_dates = calendar_dates('./calendar_dates.txt')\n",
    "fas = fare_attributes('./fare_attributes.txt')\n",
    "frs = fare_rules('./fare_rules.txt')\n",
    "fs = frequencies('./frequencies.txt')\n",
    "sps = shapes('./shapes.txt')"
   ]
  },
  {
   "cell_type": "code",
   "execution_count": 41,
   "metadata": {},
   "outputs": [
    {
     "data": {
      "text/plain": [
       "494008"
      ]
     },
     "execution_count": 41,
     "metadata": {},
     "output_type": "execute_result"
    }
   ],
   "source": [
    "headers = {'apikey': 'l7xx1a8dc791604f40f3836424d7d9b3cce4'}\n",
    "rp = requests.post('https://api.stm.info/pub/od/gtfs-rt/ic/v1/vehiclePositions', headers=headers)\n",
    "ru = requests.post('https://api.stm.info/pub/od/gtfs-rt/ic/v1/tripUpdates', headers=headers)\n",
    "rp_feed = gtfs_realtime_pb2.FeedMessage()\n",
    "ru_feed = gtfs_realtime_pb2.FeedMessage()\n",
    "rp_feed.ParseFromString(rp.content)\n",
    "ru_feed.ParseFromString(ru.content)"
   ]
  },
  {
   "cell_type": "code",
   "execution_count": null,
   "metadata": {},
   "outputs": [],
   "source": [
    "i = 0\n",
    "for e in rp_feed.entity:\n",
    "    if e.vehicle.trip.route_id == '215':\n",
    "        trip_id = e.vehicle.trip.trip_id\n",
    "        current_stop_sequence = e.vehicle.current_stop_sequence\n",
    "        trip = stm_data._trips.trips[trip_id]\n",
    "        v_trip = stm_data._stop_times.stop_times[trip_id]\n",
    "        is_outbound = trip.direction_id=='0'\n",
    "        tr = stm_data.get_current_schedule('215', not is_outbound)\n",
    "        print(current_stop_sequence, trip_id, v_trip[current_stop_sequence], tr)\n",
    "#         trip = stm_data._trips.trips[trip_id]\n",
    "#         st = stm_data._stop_times.get_stop(trip_id, current_stop_sequence)\n",
    "#         s = stm_data._stops.stops[st.stop_id]\n",
    "#         coords_1 = (e.vehicle.position.latitude, e.vehicle.position.longitude)\n",
    "#         coords_2 = (s.stop_lat, s.stop_lon)\n",
    "\n",
    "        #print(trip.direction_id, trip_id,geopy.distance.geodesic(coords_1, coords_2).km)\n",
    "       # print(s, trip.direction_id, trip_id, current_stop_sequence, e.vehicle.position.latitude, e.vehicle.position.longitude)\n",
    "    i += 1"
   ]
  },
  {
   "cell_type": "code",
   "execution_count": null,
   "metadata": {},
   "outputs": [],
   "source": [
    "e = rp_feed.entity[36]\n",
    "print(e)"
   ]
  },
  {
   "cell_type": "code",
   "execution_count": 20,
   "metadata": {},
   "outputs": [],
   "source": [
    "t = stp_times.stop_times['190426447']"
   ]
  },
  {
   "cell_type": "code",
   "execution_count": null,
   "metadata": {},
   "outputs": [],
   "source": [
    "for s in t:\n",
    "    st = stps.stops[s.stop_id]\n",
    "    print('[',st.stop_lon, ',', st.stop_lat, ',', st.stop_id,'],')"
   ]
  },
  {
   "cell_type": "code",
   "execution_count": 6,
   "metadata": {},
   "outputs": [
    {
     "data": {
      "text/plain": [
       "stop_id:55782, stop_code:55782, stop_name:Hymus / Douglas-B.-Floreani, stop_lat:45.492713, stop_lon:-73.757897, stop_url:http://m.stm.info/fr/horaires/arrets/55782/bus, location_type:0, parent_station:, wheelchair_boarding:1"
      ]
     },
     "execution_count": 6,
     "metadata": {},
     "output_type": "execute_result"
    }
   ],
   "source": [
    "stps.stops['55782']"
   ]
  },
  {
   "cell_type": "code",
   "execution_count": 19,
   "metadata": {},
   "outputs": [
    {
     "name": "stdout",
     "output_type": "stream",
     "text": [
      "trip_id:190429510, arrival_time:23:21:40, departure_time:23:21:40, stop_id:55782, stop_sequence:29\n"
     ]
    }
   ],
   "source": [
    "for st in stp_times.stop_times['190429510']:\n",
    "    if st.stop_sequence == '29':\n",
    "        print(st)"
   ]
  },
  {
   "cell_type": "code",
   "execution_count": 2,
   "metadata": {},
   "outputs": [],
   "source": [
    "stps = stops('./stops.txt')"
   ]
  },
  {
   "cell_type": "code",
   "execution_count": 3,
   "metadata": {},
   "outputs": [],
   "source": [
    "trps = trips('./trips.txt')"
   ]
  },
  {
   "cell_type": "code",
   "execution_count": 6,
   "metadata": {},
   "outputs": [],
   "source": [
    "for st in stp_times.stop_times:\n",
    "    s = stp_times.stop_times[st]\n",
    "    if s."
   ]
  },
  {
   "cell_type": "code",
   "execution_count": null,
   "metadata": {},
   "outputs": [],
   "source": [
    "trip_0 = 0\n",
    "trip_1 = 0\n",
    "for t in trps.trips:\n",
    "    tr = trps.trips[t]\n",
    "    if tr.route_id == '215':\n",
    "        if tr.direction_id == '0':\n",
    "            c = cals.calendars[tr.service_id]\n",
    "            if datetime.date.today() < c.end_date:\n",
    "                sts = stp_times.stop_times[tr.trip_id]      \n",
    "                print(tr.trip_headsign, tr.trip_id, sts[0].departure_time, c.start_date, c.end_date, c.week )\n",
    "            trip_0 = tr.trip_id\n",
    "        else:\n",
    "            trip_1 = tr.trip_id"
   ]
  },
  {
   "cell_type": "code",
   "execution_count": 28,
   "metadata": {},
   "outputs": [],
   "source": [
    "routes = {}\n",
    "for t in trps.trips:\n",
    "    tr = trps.trips[t]\n",
    "    c = cals.calendars[tr.service_id]\n",
    "    if datetime.date.today() < c.end_date:\n",
    "        if tr.route_id not in routes:\n",
    "            routes[tr.route_id] = {'id': tr.route_id, 'inbound': {'week':[], 'weekend':[]}, 'outbound': {'week':[], 'weekend':[]}}\n",
    "        r = routes[tr.route_id]\n",
    "        sts = stp_times.stop_times[tr.trip_id]\n",
    "        stop_ts = []\n",
    "        for st in sts:\n",
    "            stop_ts.append({'stop_time': st, 'stop':stps.stops[st.stop_id]})\n",
    "        trip = {'id': t, 'stops': stop_ts}\n",
    "        if tr.direction_id == '0':\n",
    "            if c.monday:\n",
    "                r['outbound']['week'].append(trip)\n",
    "            else:\n",
    "                r['outbound']['weekend'].append(trip)\n",
    "        else:\n",
    "            if c.monday:\n",
    "                r['inbound']['week'].append(trip)\n",
    "            else:\n",
    "                r['inbound']['weekend'].append(trip)\n",
    "            \n",
    " "
   ]
  },
  {
   "cell_type": "code",
   "execution_count": 29,
   "metadata": {},
   "outputs": [],
   "source": [
    "for r in routes:\n",
    "    rt = routes[r]\n",
    "    rt['inbound']['week'] = sorted(rt['inbound']['week'] , key=lambda k: k['stops'][0]['stop_time'].departure_time)\n",
    "    rt['inbound']['weekend']  = sorted(rt['inbound']['weekend'] , key=lambda k: k['stops'][0]['stop_time'].departure_time)\n",
    "    rt['outbound']['week']  = sorted(rt['outbound']['week'] , key=lambda k: k['stops'][0]['stop_time'].departure_time)\n",
    "    rt['outbound']['weekend']  = sorted(rt['outbound']['weekend'] , key=lambda k: k['stops'][0]['stop_time'].departure_time)\n",
    "    \n",
    "    "
   ]
  },
  {
   "cell_type": "code",
   "execution_count": null,
   "metadata": {},
   "outputs": [],
   "source": [
    "for t in routes['215']['inbound']['weekend']:\n",
    "    print(t['stops'][0]['stop_time'].departure_time)"
   ]
  },
  {
   "cell_type": "code",
   "execution_count": null,
   "metadata": {},
   "outputs": [],
   "source": [
    "t = t = stp_times.stop_times[trip_0]\n",
    "for s in t:\n",
    "    st = stps.stops[s.stop_id]\n",
    "    print('[',st.stop_lon, ',', st.stop_lat, ',', st.stop_id,'],')"
   ]
  },
  {
   "cell_type": "code",
   "execution_count": 43,
   "metadata": {},
   "outputs": [
    {
     "data": {
      "text/plain": [
       "route_id:215, service_id:19J-H60J000S-85-S, trip_id:190429513, trip_headsign:215-O, direction_id:1, shape_id:2150144, wheelchair_accessible:1, note_fr:, note_en:"
      ]
     },
     "execution_count": 43,
     "metadata": {},
     "output_type": "execute_result"
    }
   ],
   "source": [
    "trps.trips[trip_1]"
   ]
  },
  {
   "cell_type": "code",
   "execution_count": 7,
   "metadata": {},
   "outputs": [],
   "source": [
    "from math import sin, cos, sqrt, atan2, radians"
   ]
  },
  {
   "cell_type": "code",
   "execution_count": 10,
   "metadata": {},
   "outputs": [
    {
     "name": "stdout",
     "output_type": "stream",
     "text": [
      "Result: 0.03827617171258564\n"
     ]
    }
   ],
   "source": [
    "R = 6373.0\n",
    "\n",
    "lat1 = radians(45.517804)\n",
    "lon1 = radians(-73.715439)\n",
    "lat2 = radians(45.517601013183594)\n",
    "lon2 = radians(-73.71583557128906)\n",
    "\n",
    "dlon = lon2 - lon1\n",
    "dlat = lat2 - lat1\n",
    "\n",
    "a = sin(dlat / 2)**2 + cos(lat1) * cos(lat2) * sin(dlon / 2)**2\n",
    "c = 2 * atan2(sqrt(a), sqrt(1 - a))\n",
    "\n",
    "distance = R * c\n",
    "\n",
    "print(\"Result:\", distance)"
   ]
  },
  {
   "cell_type": "code",
   "execution_count": 12,
   "metadata": {},
   "outputs": [],
   "source": []
  },
  {
   "cell_type": "code",
   "execution_count": 68,
   "metadata": {},
   "outputs": [
    {
     "name": "stdout",
     "output_type": "stream",
     "text": [
      "0.03832847450718631\n"
     ]
    }
   ],
   "source": [
    "coords_1 = (45.517804, -73.715439)\n",
    "coords_2 = (45.517601013183594, -73.71583557128906)\n",
    "\n",
    "print(geopy.distance.geodesic(coords_1, coords_2).km)"
   ]
  },
  {
   "cell_type": "code",
   "execution_count": 33,
   "metadata": {},
   "outputs": [],
   "source": [
    "stop_1_east = '57533'\n",
    "stop_0_west = '57520'"
   ]
  },
  {
   "cell_type": "code",
   "execution_count": 34,
   "metadata": {},
   "outputs": [
    {
     "data": {
      "text/plain": [
       "stop_id:57533, stop_code:57533, stop_name:Transcanadienne / No 1255, stop_lat:45.489734, stop_lon:-73.770487, stop_url:http://m.stm.info/fr/horaires/arrets/57533/bus, location_type:0, parent_station:, wheelchair_boarding:1"
      ]
     },
     "execution_count": 34,
     "metadata": {},
     "output_type": "execute_result"
    }
   ],
   "source": [
    "stps.stops[stop_1_east]"
   ]
  },
  {
   "cell_type": "code",
   "execution_count": null,
   "metadata": {},
   "outputs": [],
   "source": [
    "for s in stp_times.stop_times:\n",
    "    st = stp_times.stop_times[s]\n",
    "    for stt in st:\n",
    "        if stt.stop_id == stop_1_east:\n",
    "            print(stt.arrival_time)"
   ]
  },
  {
   "cell_type": "code",
   "execution_count": 70,
   "metadata": {},
   "outputs": [],
   "source": [
    "d = '20181103'\n",
    "y = int(d[0:4])\n",
    "m = int(d[4:6])\n",
    "d = int(d[6:8])"
   ]
  },
  {
   "cell_type": "code",
   "execution_count": 2,
   "metadata": {},
   "outputs": [],
   "source": [
    "cals = calendars('./calendar.txt')"
   ]
  },
  {
   "cell_type": "code",
   "execution_count": 7,
   "metadata": {},
   "outputs": [
    {
     "data": {
      "text/plain": [
       "{'monday': True,\n",
       " 'tuesday': True,\n",
       " 'wednesday': True,\n",
       " 'thursday': True,\n",
       " 'friday': True,\n",
       " 'saturday': False,\n",
       " 'sunday': False}"
      ]
     },
     "execution_count": 7,
     "metadata": {},
     "output_type": "execute_result"
    }
   ],
   "source": [
    "list(cals.calendars.values())[0].week"
   ]
  },
  {
   "cell_type": "code",
   "execution_count": null,
   "metadata": {},
   "outputs": [],
   "source": [
    "sorted(sts, key=lambda k: k.stop_sequence)\n"
   ]
  },
  {
   "cell_type": "code",
   "execution_count": 40,
   "metadata": {},
   "outputs": [],
   "source": [
    "r = requests.get('http://www.stm.info/sites/default/files/gtfs/gtfs_stm.zip')"
   ]
  },
  {
   "cell_type": "code",
   "execution_count": 46,
   "metadata": {},
   "outputs": [
    {
     "data": {
      "text/plain": [
       "45409574"
      ]
     },
     "execution_count": 46,
     "metadata": {},
     "output_type": "execute_result"
    }
   ],
   "source": [
    "fi = os.path.join(tempfile.gettempdir(), 'stm.zip')\n",
    "open(fi, 'wb').write(r.content)"
   ]
  },
  {
   "cell_type": "code",
   "execution_count": 49,
   "metadata": {},
   "outputs": [],
   "source": [
    "zip_ref = zipfile.ZipFile(fi, 'r')\n",
    "zip_ref.extractall('./stmdata')\n",
    "zip_ref.close()"
   ]
  },
  {
   "cell_type": "code",
   "execution_count": 1,
   "metadata": {},
   "outputs": [],
   "source": [
    "import zipfile\n",
    "import dateutils"
   ]
  },
  {
   "cell_type": "code",
   "execution_count": 2,
   "metadata": {},
   "outputs": [],
   "source": [
    "from stm import stm"
   ]
  },
  {
   "cell_type": "code",
   "execution_count": 3,
   "metadata": {},
   "outputs": [
    {
     "name": "stdout",
     "output_type": "stream",
     "text": [
      "-->Load data\n",
      "-->Build routes\n",
      "<--Build routes\n",
      "-->Sort routes\n",
      "<--Sort routes\n",
      "<--Load data\n"
     ]
    }
   ],
   "source": [
    "stm_data = stm()"
   ]
  },
  {
   "cell_type": "code",
   "execution_count": 4,
   "metadata": {},
   "outputs": [],
   "source": [
    "with open('./stop_times.txt', 'rt') as f:\n",
    "    d = f.read()\n",
    "    #lines = d.split('\\n')"
   ]
  },
  {
   "cell_type": "code",
   "execution_count": 43,
   "metadata": {},
   "outputs": [],
   "source": [
    "route_id = '215'\n",
    "is_inbound = True\n",
    "r = stm_data.routes[route_id]\n",
    "is_week = datetime.date.today().weekday() in [0, 1 , 2, 3, 4]\n",
    "if is_inbound:\n",
    "    rr = r['inbound']\n",
    "else:\n",
    "    rr = r['outbound']\n",
    "if is_week:\n",
    "    rrr = rr['week']\n",
    "else:\n",
    "    rrr = rr['weekend']\n"
   ]
  },
  {
   "cell_type": "code",
   "execution_count": null,
   "metadata": {},
   "outputs": [],
   "source": [
    "n = datetime.datetime.now()\n",
    "\n",
    "for r in rrr:\n",
    "    start = r['stops'][-1]['stop_time'].departure_time\n",
    "    #print(start)\n",
    "    end = build_datetime(n.year, n.month, n.day, start[0], start[1], start[2])\n",
    "    if end > n:\n",
    "        print(r,  r['stops'][0]['stop_time'].departure_time,  r['stops'][-1]['stop_time'].departure_time)\n",
    "        break"
   ]
  },
  {
   "cell_type": "code",
   "execution_count": 34,
   "metadata": {},
   "outputs": [],
   "source": [
    "n = datetime.datetime.now()"
   ]
  },
  {
   "cell_type": "code",
   "execution_count": 38,
   "metadata": {},
   "outputs": [
    {
     "data": {
      "text/plain": [
       "['06', '15', '00']"
      ]
     },
     "execution_count": 38,
     "metadata": {},
     "output_type": "execute_result"
    }
   ],
   "source": [
    "'06:15:00'.split(':')"
   ]
  },
  {
   "cell_type": "code",
   "execution_count": 44,
   "metadata": {},
   "outputs": [
    {
     "ename": "TypeError",
     "evalue": "an integer is required (got type datetime.time)",
     "output_type": "error",
     "traceback": [
      "\u001b[0;31m---------------------------------------------------------------------------\u001b[0m",
      "\u001b[0;31mTypeError\u001b[0m                                 Traceback (most recent call last)",
      "\u001b[0;32m<ipython-input-44-feae7d180304>\u001b[0m in \u001b[0;36m<module>\u001b[0;34m()\u001b[0m\n\u001b[0;32m----> 1\u001b[0;31m \u001b[0mdatetime\u001b[0m\u001b[0;34m.\u001b[0m\u001b[0mdatetime\u001b[0m\u001b[0;34m(\u001b[0m\u001b[0mn\u001b[0m\u001b[0;34m.\u001b[0m\u001b[0myear\u001b[0m\u001b[0;34m,\u001b[0m \u001b[0mn\u001b[0m\u001b[0;34m.\u001b[0m\u001b[0mmonth\u001b[0m\u001b[0;34m,\u001b[0m \u001b[0mn\u001b[0m\u001b[0;34m.\u001b[0m\u001b[0mday\u001b[0m\u001b[0;34m,\u001b[0m\u001b[0mt\u001b[0m\u001b[0;34m)\u001b[0m \u001b[0;34m<\u001b[0m \u001b[0mn\u001b[0m\u001b[0;34m\u001b[0m\u001b[0;34m\u001b[0m\u001b[0m\n\u001b[0m",
      "\u001b[0;31mTypeError\u001b[0m: an integer is required (got type datetime.time)"
     ]
    }
   ],
   "source": [
    "datetime.datetime(n.year, n.month, n.day,t) < n"
   ]
  },
  {
   "cell_type": "code",
   "execution_count": 43,
   "metadata": {},
   "outputs": [],
   "source": [
    "t = datetime.time(6, 15,0)"
   ]
  },
  {
   "cell_type": "code",
   "execution_count": null,
   "metadata": {},
   "outputs": [],
   "source": []
  },
  {
   "cell_type": "code",
   "execution_count": 20,
   "metadata": {},
   "outputs": [],
   "source": [
    "def build_datetime(year, month, day, hour, minute, second):\n",
    "    add_day = datetime.timedelta(0)\n",
    "    if hour > 23:\n",
    "        hour = hour - 24\n",
    "        add_day = datetime.timedelta(1)\n",
    "    return datetime.datetime(year, month, day, hour, minute, second) + add_day"
   ]
  },
  {
   "cell_type": "code",
   "execution_count": 21,
   "metadata": {},
   "outputs": [
    {
     "data": {
      "text/plain": [
       "datetime.datetime(2019, 3, 4, 1, 17)"
      ]
     },
     "execution_count": 21,
     "metadata": {},
     "output_type": "execute_result"
    }
   ],
   "source": [
    "build_datetime(2019,3,3, 25, 17, 0)"
   ]
  },
  {
   "cell_type": "code",
   "execution_count": 4,
   "metadata": {},
   "outputs": [],
   "source": [
    "bus = ['215', '475', '409', '470']"
   ]
  },
  {
   "cell_type": "code",
   "execution_count": null,
   "metadata": {},
   "outputs": [],
   "source": [
    "trip = stm_data.get_current_schedule('215', False)"
   ]
  },
  {
   "cell_type": "code",
   "execution_count": null,
   "metadata": {},
   "outputs": [],
   "source": [
    "for t in trip['stops']:\n",
    "    print(t['stop_time'].departure_time )"
   ]
  },
  {
   "cell_type": "code",
   "execution_count": 19,
   "metadata": {},
   "outputs": [
    {
     "data": {
      "text/plain": [
       "<stop_time.stop_times at 0x1042e1e48>"
      ]
     },
     "execution_count": 19,
     "metadata": {},
     "output_type": "execute_result"
    }
   ],
   "source": [
    "stm_data._stop_times"
   ]
  },
  {
   "cell_type": "code",
   "execution_count": 34,
   "metadata": {},
   "outputs": [
    {
     "data": {
      "text/plain": [
       "{'stop_time': trip_id:189408866, arrival_time:(21, 48, 8), departure_time:(21, 48, 8), stop_id:55774, stop_sequence:30,\n",
       " 'stop': stop_id:55774, stop_code:55774, stop_name:Cousens / Thimens, stop_lat:45.502386, stop_lon:-73.737529, stop_url:http://m.stm.info/fr/horaires/arrets/55774/bus, location_type:0, parent_station:, wheelchair_boarding:1}"
      ]
     },
     "execution_count": 34,
     "metadata": {},
     "output_type": "execute_result"
    }
   ],
   "source": [
    "trip['stops'][29]"
   ]
  },
  {
   "cell_type": "code",
   "execution_count": 41,
   "metadata": {},
   "outputs": [
    {
     "data": {
      "text/plain": [
       "<stm.stm at 0x103a256d8>"
      ]
     },
     "execution_count": 41,
     "metadata": {},
     "output_type": "execute_result"
    }
   ],
   "source": [
    "stm_data"
   ]
  },
  {
   "cell_type": "code",
   "execution_count": 45,
   "metadata": {},
   "outputs": [
    {
     "data": {
      "text/plain": [
       "route_id:215, service_id:19J-H60J000I-02-I, trip_id:189084566, trip_headsign:215-O, direction_id:1, shape_id:2150144, wheelchair_accessible:2, note_fr:, note_en:"
      ]
     },
     "execution_count": 45,
     "metadata": {},
     "output_type": "execute_result"
    }
   ],
   "source": [
    "stm_data._trips.trips['189084566'] #['189084737']"
   ]
  },
  {
   "cell_type": "code",
   "execution_count": 46,
   "metadata": {},
   "outputs": [
    {
     "data": {
      "text/plain": [
       "route_id:215, service_id:19J-H60J000A-03-A, trip_id:189408867, trip_headsign:215-O, direction_id:1, shape_id:2150144, wheelchair_accessible:2, note_fr:, note_en:"
      ]
     },
     "execution_count": 46,
     "metadata": {},
     "output_type": "execute_result"
    }
   ],
   "source": [
    "stm_data._trips.trips['189408867']"
   ]
  },
  {
   "cell_type": "code",
   "execution_count": 50,
   "metadata": {},
   "outputs": [
    {
     "data": {
      "text/plain": [
       "trip_id:189084566, arrival_time:(22, 17, 0), departure_time:(22, 17, 0), stop_id:60383, stop_sequence:1"
      ]
     },
     "execution_count": 50,
     "metadata": {},
     "output_type": "execute_result"
    }
   ],
   "source": [
    "stm_data._stop_times.stop_times['189084566'][0]"
   ]
  },
  {
   "cell_type": "code",
   "execution_count": 51,
   "metadata": {},
   "outputs": [
    {
     "data": {
      "text/plain": [
       "trip_id:189408867, arrival_time:(22, 13, 0), departure_time:(22, 13, 0), stop_id:60383, stop_sequence:1"
      ]
     },
     "execution_count": 51,
     "metadata": {},
     "output_type": "execute_result"
    }
   ],
   "source": [
    "stm_data._stop_times.stop_times['189408867'][0]"
   ]
  },
  {
   "cell_type": "code",
   "execution_count": null,
   "metadata": {},
   "outputs": [],
   "source": [
    "for t in stm_data._trips.trips:\n",
    "    tr = stm_data._trips.trips[t]\n",
    "    if tr.route_id == '215':\n",
    "        print(tr)"
   ]
  },
  {
   "cell_type": "code",
   "execution_count": 56,
   "metadata": {},
   "outputs": [],
   "source": [
    " def get_today_schedule(stm, route_id, is_inbound):\n",
    "        route = stm._routes_build[route_id]\n",
    "        is_week = datetime.date.today().weekday() in [0, 1 , 2, 3, 4]\n",
    "        if is_inbound:\n",
    "            direction = route['inbound']\n",
    "        else:\n",
    "            direction = route['outbound']\n",
    "        if is_week:\n",
    "            trips = direction['week']\n",
    "        else:\n",
    "            trips = direction['weekend']\n",
    "        return trips"
   ]
  },
  {
   "cell_type": "code",
   "execution_count": null,
   "metadata": {},
   "outputs": [],
   "source": [
    "for t in get_today_schedule(stm_data, '215', True):\n",
    "    print(t['id'], t['stops'][0]['stop_time'].departure_time, t['stops'][-1]['stop_time'].departure_time)"
   ]
  },
  {
   "cell_type": "code",
   "execution_count": null,
   "metadata": {},
   "outputs": [],
   "source": []
  }
 ],
 "metadata": {
  "kernelspec": {
   "display_name": "Python 3",
   "language": "python",
   "name": "python3"
  },
  "language_info": {
   "codemirror_mode": {
    "name": "ipython",
    "version": 3
   },
   "file_extension": ".py",
   "mimetype": "text/x-python",
   "name": "python",
   "nbconvert_exporter": "python",
   "pygments_lexer": "ipython3",
   "version": "3.7.1"
  }
 },
 "nbformat": 4,
 "nbformat_minor": 2
}
