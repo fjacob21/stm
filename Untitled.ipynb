{
 "cells": [
  {
   "cell_type": "code",
   "execution_count": 10,
   "metadata": {},
   "outputs": [
    {
     "name": "stderr",
     "output_type": "stream",
     "text": [
      "/usr/local/lib/python3.7/site-packages/ipykernel_launcher.py:6: RuntimeWarning: Unexpected end-group tag: Not all data was converted\n",
      "  \n"
     ]
    }
   ],
   "source": [
    "from google.transit import gtfs_realtime_pb2\n",
    "import urllib\n",
    "\n",
    "feed = gtfs_realtime_pb2.FeedMessage()\n",
    "response = urllib.request.urlopen('http://www.veneziaunica.it') #https://api.stm.info/pub/od/gtfs-rt/ic/v1')\n",
    "feed.ParseFromString(response.read())\n",
    "for entity in feed.entity:\n",
    "  if entity.HasField('trip_update'):\n",
    "    print(entity.trip_update)"
   ]
  },
  {
   "cell_type": "code",
   "execution_count": null,
   "metadata": {},
   "outputs": [],
   "source": [
    "response = urllib.request.urlopen('http://www.veneziaunica.it')\n",
    "response.read()"
   ]
  },
  {
   "cell_type": "code",
   "execution_count": 11,
   "metadata": {},
   "outputs": [],
   "source": [
    "import requests"
   ]
  },
  {
   "cell_type": "code",
   "execution_count": 28,
   "metadata": {},
   "outputs": [],
   "source": [
    "headers = {'apikey': 'l7xx1a8dc791604f40f3836424d7d9b3cce4'}\n",
    "rp = requests.post('https://api.stm.info/pub/od/gtfs-rt/ic/v1/vehiclePositions', headers=headers)\n",
    "ru = requests.post('https://api.stm.info/pub/od/gtfs-rt/ic/v1/tripUpdates', headers=headers)"
   ]
  },
  {
   "cell_type": "code",
   "execution_count": 29,
   "metadata": {},
   "outputs": [
    {
     "data": {
      "text/plain": [
       "2463"
      ]
     },
     "execution_count": 29,
     "metadata": {},
     "output_type": "execute_result"
    }
   ],
   "source": [
    "feed = gtfs_realtime_pb2.FeedMessage()\n",
    "feed.ParseFromString(ru.content)"
   ]
  },
  {
   "cell_type": "code",
   "execution_count": 30,
   "metadata": {},
   "outputs": [
    {
     "data": {
      "text/plain": [
       "b'\\n\\r\\n\\x031.0\\x10\\x00\\x18\\xfc\\xb0\\xde\\xe3\\x05'"
      ]
     },
     "execution_count": 30,
     "metadata": {},
     "output_type": "execute_result"
    }
   ],
   "source": [
    "r.content\n"
   ]
  },
  {
   "cell_type": "code",
   "execution_count": null,
   "metadata": {},
   "outputs": [],
   "source": [
    "for e in feed.entity:\n",
    "    print(trps.trips[e.trip_update.trip.trip_id].trip_headsign)"
   ]
  },
  {
   "cell_type": "code",
   "execution_count": 16,
   "metadata": {},
   "outputs": [
    {
     "ename": "NameError",
     "evalue": "name 'e' is not defined",
     "output_type": "error",
     "traceback": [
      "\u001b[0;31m---------------------------------------------------------------------------\u001b[0m",
      "\u001b[0;31mNameError\u001b[0m                                 Traceback (most recent call last)",
      "\u001b[0;32m<ipython-input-16-275fd09d9298>\u001b[0m in \u001b[0;36m<module>\u001b[0;34m()\u001b[0m\n\u001b[0;32m----> 1\u001b[0;31m \u001b[0mtrps\u001b[0m\u001b[0;34m.\u001b[0m\u001b[0mtrips\u001b[0m\u001b[0;34m[\u001b[0m\u001b[0me\u001b[0m\u001b[0;34m.\u001b[0m\u001b[0mvehicle\u001b[0m\u001b[0;34m.\u001b[0m\u001b[0mtrip\u001b[0m\u001b[0;34m.\u001b[0m\u001b[0mtrip_id\u001b[0m\u001b[0;34m]\u001b[0m\u001b[0;34m\u001b[0m\u001b[0;34m\u001b[0m\u001b[0m\n\u001b[0m",
      "\u001b[0;31mNameError\u001b[0m: name 'e' is not defined"
     ]
    }
   ],
   "source": [
    "trps.trips[e.vehicle.trip.trip_id]"
   ]
  },
  {
   "cell_type": "code",
   "execution_count": 9,
   "metadata": {},
   "outputs": [],
   "source": [
    "import google.transit"
   ]
  },
  {
   "cell_type": "code",
   "execution_count": null,
   "metadata": {},
   "outputs": [],
   "source": [
    "from transitfeed.transitfeed import *"
   ]
  },
  {
   "cell_type": "code",
   "execution_count": 60,
   "metadata": {},
   "outputs": [],
   "source": [
    "with open('./trips.txt', 'rt') as f:\n",
    "    d = f.read()\n",
    "    lines = d.split('\\n')"
   ]
  },
  {
   "cell_type": "code",
   "execution_count": 61,
   "metadata": {},
   "outputs": [],
   "source": [
    "fields = lines[0].split(',')"
   ]
  },
  {
   "cell_type": "code",
   "execution_count": 62,
   "metadata": {},
   "outputs": [],
   "source": [
    "record = lines[1].split(',')"
   ]
  },
  {
   "cell_type": "code",
   "execution_count": 18,
   "metadata": {},
   "outputs": [],
   "source": [
    "trips = []\n",
    "for r in lines[1:]:\n",
    "    if r:\n",
    "        routes.append(route(fields, r.split(',')))"
   ]
  },
  {
   "cell_type": "code",
   "execution_count": 39,
   "metadata": {},
   "outputs": [],
   "source": [
    "e = feed.entity[0]"
   ]
  },
  {
   "cell_type": "code",
   "execution_count": 48,
   "metadata": {},
   "outputs": [],
   "source": [
    "trip = trps.trips[e.trip_update.trip.trip_id]"
   ]
  },
  {
   "cell_type": "code",
   "execution_count": 46,
   "metadata": {},
   "outputs": [],
   "source": [
    "class agencies(object):\n",
    "    \n",
    "    def __init__(self, filename):\n",
    "        self._filename = filename\n",
    "        self.load()\n",
    "    \n",
    "    def load(self):\n",
    "        with open(self._filename, 'rt') as f:\n",
    "            d = f.read()\n",
    "            lines = d.split('\\n')\n",
    "        fields = lines[0].split(',')\n",
    "        self._agencies = []\n",
    "        for l in lines[1:]:\n",
    "            if l:\n",
    "                record = l.split(',')\n",
    "                self._agencies.append(agency(fields, record))\n",
    "    \n",
    "    @property\n",
    "    def agencies(self):\n",
    "        return self._agencies\n",
    "            \n",
    "        \n",
    "class agency(object):\n",
    "    \n",
    "    def __init__(self, fields, record):\n",
    "        self._fields = fields\n",
    "        self._record = record\n",
    "        self.load()\n",
    "    \n",
    "    def load(self):\n",
    "        self._values = {}\n",
    "        for i in range(len(self._record)):\n",
    "            value = self._record[i]\n",
    "            field = self._fields[i]\n",
    "            self.__dict__[field] = value\n",
    "            self._values[field] = value\n",
    "\n",
    "    def __repr__(self):\n",
    "        return self.agency_id + ' - ' + self.agency_name\n",
    "    \n",
    "    def __str__(self):\n",
    "        return self.agency_id + ' - ' + self.agency_name"
   ]
  },
  {
   "cell_type": "code",
   "execution_count": 47,
   "metadata": {},
   "outputs": [],
   "source": [
    "ag = agencies('./agency.txt')"
   ]
  },
  {
   "cell_type": "code",
   "execution_count": 48,
   "metadata": {},
   "outputs": [
    {
     "data": {
      "text/plain": [
       "[STM - \"Société de transport de Montréal\"]"
      ]
     },
     "execution_count": 48,
     "metadata": {},
     "output_type": "execute_result"
    }
   ],
   "source": [
    "ag.agencies"
   ]
  },
  {
   "cell_type": "code",
   "execution_count": 51,
   "metadata": {},
   "outputs": [],
   "source": [
    "TYPE_TRAM = '0'\n",
    "TYPE_METRO = '1'\n",
    "TYPE_TRAIN = '2'\n",
    "TYPE_BUS = '3'\n",
    "TYPE_FERRY = '4'\n",
    "TYPE_CABLETRAM = '5'\n",
    "TYPE_AERIAL = '6'\n",
    "TYPE_FENICULAR = '7'\n",
    "\n",
    "route_type = {}\n",
    "route_type[TYPE_TRAM] = 'Tram'\n",
    "route_type[TYPE_METRO] = 'Metro'\n",
    "route_type[TYPE_TRAIN] = 'Train'\n",
    "route_type[TYPE_BUS] = 'Bus'\n",
    "route_type[TYPE_FERRY] = 'Ferry'\n",
    "route_type[TYPE_CABLETRAM] = 'Cable tram'\n",
    "route_type[TYPE_AERIAL] = 'Aerial lift'\n",
    "route_type[TYPE_FENICULAR] = 'Funicular'\n",
    "\n",
    "class routes(object):\n",
    "    \n",
    "    def __init__(self, filename):\n",
    "        self._filename = filename\n",
    "        self.load()\n",
    "    \n",
    "    def load(self):\n",
    "        with open(self._filename, 'rt') as f:\n",
    "            d = f.read()\n",
    "            lines = d.split('\\n')\n",
    "        fields = lines[0].split(',')\n",
    "        self._routes = []\n",
    "        for l in lines[1:]:\n",
    "            if l:\n",
    "                record = l.split(',')\n",
    "                self._routes.append(route(fields, record))\n",
    "    \n",
    "    @property\n",
    "    def routes(self):\n",
    "        return self._routes\n",
    "\n",
    "class route(object):\n",
    "    \n",
    "    def __init__(self, fields, record):\n",
    "        self._fields = fields\n",
    "        self._record = record\n",
    "        self.load()\n",
    "    \n",
    "    def load(self):\n",
    "        self._values = {}\n",
    "        for i in range(len(self._record)):\n",
    "            value = self._record[i]\n",
    "            field = self._fields[i]\n",
    "            self.__dict__[field] = value\n",
    "            self._values[field] = value\n",
    "    \n",
    "    def __repr__(self):\n",
    "        return self.route_id + ' - ' + self.route_long_name\n",
    "    \n",
    "    def __str__(self):\n",
    "        return self.route_id + ' - ' + self.route_long_name"
   ]
  },
  {
   "cell_type": "code",
   "execution_count": 52,
   "metadata": {},
   "outputs": [],
   "source": [
    "rs = routes('./routes.txt')"
   ]
  },
  {
   "cell_type": "code",
   "execution_count": null,
   "metadata": {},
   "outputs": [],
   "source": [
    "rs.routes"
   ]
  },
  {
   "cell_type": "code",
   "execution_count": 1,
   "metadata": {},
   "outputs": [],
   "source": [
    "from agency import agencies\n",
    "from route import routes\n",
    "from trip import trips\n",
    "from stop import stops\n",
    "from stop_time import stop_times\n",
    "from calendars import calendars"
   ]
  },
  {
   "cell_type": "code",
   "execution_count": 2,
   "metadata": {},
   "outputs": [],
   "source": [
    "ags = agencies('./agency.txt')\n",
    "rts = routes('./routes.txt')\n",
    "trps = trips('./trips.txt')\n",
    "stps = stops('./stops.txt')\n",
    "stp_times = stop_times('./stop_times.txt')\n",
    "cals = calendars('./calendar.txt')"
   ]
  },
  {
   "cell_type": "code",
   "execution_count": 3,
   "metadata": {},
   "outputs": [
    {
     "data": {
      "text/plain": [
       "STM - \"Société de transport de Montréal\""
      ]
     },
     "execution_count": 3,
     "metadata": {},
     "output_type": "execute_result"
    }
   ],
   "source": [
    "ags.agencies['STM']"
   ]
  },
  {
   "cell_type": "code",
   "execution_count": 5,
   "metadata": {},
   "outputs": [],
   "source": [
    "starts = []\n",
    "for ti in trps.trips:\n",
    "    t = trps.trips[ti]\n",
    "    if t.route_id == '215' and t.direction_id=='0':\n",
    "        #c = cals.calendars[t.service_id]\n",
    "        #times = stp_times.get_times(t.trip_id)\n",
    "        #h,m,s = times[0].departure_time.split(':')\n",
    "        #h = int(h)\n",
    "        #m = int(m)\n",
    "        #s = int(s)\n",
    "        #if h > 23:\n",
    "        #    h = h - 24\n",
    "        #print(h,m,s)\n",
    "        #starts.append(datetime.time(h,m,s))\n",
    "        starts.append(t)\n",
    "        \n",
    "        #print(times[0].stop_id, t.trip_id, t.trip_headsign, times[0].departure_time)"
   ]
  },
  {
   "cell_type": "code",
   "execution_count": 6,
   "metadata": {},
   "outputs": [
    {
     "data": {
      "text/plain": [
       "datetime.time(12, 0, 4)"
      ]
     },
     "execution_count": 6,
     "metadata": {},
     "output_type": "execute_result"
    }
   ],
   "source": [
    "import datetime\n",
    "datetime.time(12, 0, 4)"
   ]
  },
  {
   "cell_type": "code",
   "execution_count": 7,
   "metadata": {},
   "outputs": [],
   "source": [
    "cs = {}\n",
    "for t in starts:\n",
    "    if t.service_id not in cs:\n",
    "        cs[t.service_id] = []\n",
    "    cs[t.service_id].append(t)"
   ]
  },
  {
   "cell_type": "code",
   "execution_count": 8,
   "metadata": {},
   "outputs": [
    {
     "name": "stdout",
     "output_type": "stream",
     "text": [
      "20181103 20190105 42\n",
      "20181104 20190106 39\n",
      "20181029 20190104 45\n",
      "20181225 20181225 39\n",
      "20181226 20181226 42\n",
      "20190101 20190101 39\n",
      "20190102 20190102 42\n",
      "20190112 20190323 41\n",
      "20190113 20190324 39\n",
      "20190107 20190322 45\n"
     ]
    }
   ],
   "source": [
    "sts = ''\n",
    "stst = []\n",
    "for c in cs:\n",
    "    cal = cals.calendars[c]\n",
    "    if cal.start_date > sts:\n",
    "        sts = cal.start_date\n",
    "        stst = cs[c]\n",
    "    print(cal.start_date, cal.end_date, len(cs[c]))\n",
    "    "
   ]
  },
  {
   "cell_type": "code",
   "execution_count": 9,
   "metadata": {},
   "outputs": [
    {
     "name": "stdout",
     "output_type": "stream",
     "text": [
      "05:30:00\n",
      "07:00:00\n",
      "08:30:00\n",
      "10:00:00\n",
      "11:31:00\n",
      "13:06:00\n",
      "15:01:00\n",
      "06:00:00\n",
      "07:30:00\n",
      "09:00:00\n",
      "10:31:00\n",
      "12:02:00\n",
      "13:38:00\n",
      "15:27:00\n",
      "17:02:00\n",
      "18:36:00\n",
      "20:05:00\n",
      "21:34:00\n",
      "23:01:00\n",
      "06:30:00\n",
      "08:00:00\n",
      "09:30:00\n",
      "11:01:00\n",
      "12:34:00\n",
      "14:09:00\n",
      "15:58:00\n",
      "17:34:00\n",
      "19:06:00\n",
      "20:35:00\n",
      "22:03:00\n",
      "23:29:00\n",
      "24:30:00\n",
      "23:50:00\n",
      "14:35:00\n",
      "16:30:00\n",
      "18:05:00\n",
      "19:35:00\n",
      "21:04:00\n",
      "22:32:00\n"
     ]
    }
   ],
   "source": [
    "starts_times = []\n",
    "for t in stst:\n",
    "    times = stp_times.get_times(t.trip_id)\n",
    "    h,m,s = times[0].departure_time.split(':')\n",
    "    h = int(h)\n",
    "    m = int(m)\n",
    "    s = int(s)\n",
    "    if h > 23:\n",
    "        h = h - 24\n",
    "    starts_times.append(datetime.time(h,m,s))\n",
    "    print(times[0].departure_time)"
   ]
  },
  {
   "cell_type": "code",
   "execution_count": null,
   "metadata": {},
   "outputs": [],
   "source": [
    "for t in starts_times:\n",
    "    print(t.isoformat())"
   ]
  },
  {
   "cell_type": "code",
   "execution_count": 34,
   "metadata": {},
   "outputs": [
    {
     "ename": "AttributeError",
     "evalue": "'stop_time' object has no attribute 'route_id'",
     "output_type": "error",
     "traceback": [
      "\u001b[0;31m---------------------------------------------------------------------------\u001b[0m",
      "\u001b[0;31mAttributeError\u001b[0m                            Traceback (most recent call last)",
      "\u001b[0;32m<ipython-input-34-018440133257>\u001b[0m in \u001b[0;36m<module>\u001b[0;34m()\u001b[0m\n\u001b[1;32m      1\u001b[0m \u001b[0;32mfor\u001b[0m \u001b[0ms\u001b[0m \u001b[0;32min\u001b[0m \u001b[0mstp_times\u001b[0m\u001b[0;34m.\u001b[0m\u001b[0mstop_times\u001b[0m\u001b[0;34m:\u001b[0m\u001b[0;34m\u001b[0m\u001b[0;34m\u001b[0m\u001b[0m\n\u001b[0;32m----> 2\u001b[0;31m     \u001b[0;32mif\u001b[0m \u001b[0ms\u001b[0m\u001b[0;34m.\u001b[0m\u001b[0mroute_id\u001b[0m \u001b[0;34m==\u001b[0m \u001b[0;34m'215'\u001b[0m\u001b[0;34m:\u001b[0m\u001b[0;34m\u001b[0m\u001b[0;34m\u001b[0m\u001b[0m\n\u001b[0m\u001b[1;32m      3\u001b[0m         \u001b[0mc\u001b[0m \u001b[0;34m=\u001b[0m \u001b[0mcals\u001b[0m\u001b[0;34m.\u001b[0m\u001b[0mcalendars\u001b[0m\u001b[0;34m[\u001b[0m\u001b[0mt\u001b[0m\u001b[0;34m.\u001b[0m\u001b[0mservice_id\u001b[0m\u001b[0;34m]\u001b[0m\u001b[0;34m\u001b[0m\u001b[0;34m\u001b[0m\u001b[0m\n\u001b[1;32m      4\u001b[0m         \u001b[0mprint\u001b[0m\u001b[0;34m(\u001b[0m\u001b[0mt\u001b[0m\u001b[0;34m.\u001b[0m\u001b[0mservice_id\u001b[0m\u001b[0;34m)\u001b[0m\u001b[0;34m\u001b[0m\u001b[0;34m\u001b[0m\u001b[0m\n",
      "\u001b[0;31mAttributeError\u001b[0m: 'stop_time' object has no attribute 'route_id'"
     ]
    }
   ],
   "source": [
    "for s in stp_times.stop_times:\n",
    "    if s.route_id == '215':\n",
    "        c = cals.calendars[t.service_id]\n",
    "        print(t.service_id)"
   ]
  },
  {
   "cell_type": "code",
   "execution_count": 70,
   "metadata": {},
   "outputs": [],
   "source": [
    "class trips(object):\n",
    "    \n",
    "    def __init__(self, filename):\n",
    "        self._filename = filename\n",
    "        self.load()\n",
    "    \n",
    "    def load(self):\n",
    "        with open(self._filename, 'rt') as f:\n",
    "            d = f.read()\n",
    "            lines = d.split('\\n')\n",
    "        fields = lines[0].split(',')\n",
    "        self._trips = []\n",
    "        for l in lines[1:]:\n",
    "            if l:\n",
    "                record = l.split(',')\n",
    "                self._trips.append(trip(fields, record))\n",
    "    \n",
    "    @property\n",
    "    def trips(self):\n",
    "        return self._trips\n",
    "            \n",
    "        \n",
    "class trip(object):\n",
    "    \n",
    "    def __init__(self, fields, record):\n",
    "        self._fields = fields\n",
    "        self._record = record\n",
    "        self.load()\n",
    "    \n",
    "    def load(self):\n",
    "        self._values = {}\n",
    "        for i in range(len(self._record)):\n",
    "            value = self._record[i]\n",
    "            field = self._fields[i]\n",
    "            self.__dict__[field] = value\n",
    "            self._values[field] = value\n",
    "\n",
    "    def __repr__(self):\n",
    "        return self.trip_id + ' - ' + self.route_id\n",
    "    \n",
    "    def __str__(self):\n",
    "        return self.trip_id + ' - ' + self.route_id"
   ]
  },
  {
   "cell_type": "code",
   "execution_count": 71,
   "metadata": {},
   "outputs": [],
   "source": [
    "trs = trips('./trips.txt')"
   ]
  },
  {
   "cell_type": "code",
   "execution_count": null,
   "metadata": {},
   "outputs": [],
   "source": [
    "trs.trips"
   ]
  },
  {
   "cell_type": "code",
   "execution_count": 77,
   "metadata": {},
   "outputs": [],
   "source": [
    "class stops(object):\n",
    "    \n",
    "    def __init__(self, filename):\n",
    "        self._filename = filename\n",
    "        self.load()\n",
    "    \n",
    "    def load(self):\n",
    "        with open(self._filename, 'rt') as f:\n",
    "            d = f.read()\n",
    "            lines = d.split('\\n')\n",
    "        fields = lines[0].split(',')\n",
    "        self._stops = []\n",
    "        for l in lines[1:]:\n",
    "            if l:\n",
    "                record = l.split(',')\n",
    "                self._stops.append(stop(fields, record))\n",
    "    \n",
    "    @property\n",
    "    def stops(self):\n",
    "        return self._stops\n",
    "            \n",
    "        \n",
    "class stop(object):\n",
    "    \n",
    "    def __init__(self, fields, record):\n",
    "        self._fields = fields\n",
    "        self._record = record\n",
    "        self.load()\n",
    "    \n",
    "    def load(self):\n",
    "        self._values = {}\n",
    "        for i in range(len(self._record)):\n",
    "            value = self._record[i]\n",
    "            field = self._fields[i]\n",
    "            self.__dict__[field] = value\n",
    "            self._values[field] = value\n",
    "\n",
    "    def __repr__(self):\n",
    "        return self.stop_id + ' - ' + self.stop_code\n",
    "    \n",
    "    def __str__(self):\n",
    "        return self.stop_id + ' - ' + self.stop_code"
   ]
  },
  {
   "cell_type": "code",
   "execution_count": 78,
   "metadata": {},
   "outputs": [],
   "source": [
    "stps = stops('./stops.txt')"
   ]
  },
  {
   "cell_type": "code",
   "execution_count": 84,
   "metadata": {},
   "outputs": [],
   "source": [
    "class stop_times(object):\n",
    "    \n",
    "    def __init__(self, filename):\n",
    "        self._filename = filename\n",
    "        self.load()\n",
    "    \n",
    "    def load(self):\n",
    "        with open(self._filename, 'rt') as f:\n",
    "            d = f.read()\n",
    "            lines = d.split('\\n')\n",
    "        fields = lines[0].split(',')\n",
    "        self._stop_times = []\n",
    "        for l in lines[1:]:\n",
    "            if l:\n",
    "                record = l.split(',')\n",
    "                self._stop_times.append(stop_time(fields, record))\n",
    "    \n",
    "    @property\n",
    "    def stop_times(self):\n",
    "        return self._stop_times\n",
    "            \n",
    "        \n",
    "class stop_time(object):\n",
    "    \n",
    "    def __init__(self, fields, record):\n",
    "        self._fields = fields\n",
    "        self._record = record\n",
    "        self.load()\n",
    "    \n",
    "    def load(self):\n",
    "        self._values = {}\n",
    "        for i in range(len(self._record)):\n",
    "            value = self._record[i]\n",
    "            field = self._fields[i]\n",
    "            self.__dict__[field] = value\n",
    "            self._values[field] = value\n",
    "\n",
    "    def __repr__(self):\n",
    "        return self.trip_id + ' - ' + self.stop_id + self.arrival_time + ':' + self.departure_time\n",
    "    \n",
    "    def __str__(self):\n",
    "        return self.trip_id + ' - ' + self.stop_id + self.arrival_time + ':' + self.departure_time"
   ]
  },
  {
   "cell_type": "code",
   "execution_count": 85,
   "metadata": {},
   "outputs": [],
   "source": [
    "times = stop_times('./stop_times.txt')"
   ]
  },
  {
   "cell_type": "code",
   "execution_count": null,
   "metadata": {},
   "outputs": [],
   "source": [
    "times.stop_times"
   ]
  },
  {
   "cell_type": "code",
   "execution_count": 9,
   "metadata": {},
   "outputs": [],
   "source": [
    "class calendars(object):\n",
    "    \n",
    "    def __init__(self, filename):\n",
    "        self._filename = filename\n",
    "        self.load()\n",
    "    \n",
    "    def load(self):\n",
    "        with open(self._filename, 'rt') as f:\n",
    "            d = f.read()\n",
    "            lines = d.split('\\n')\n",
    "        fields = lines[0].split(',')\n",
    "        self._calendars = {}\n",
    "        for l in lines[1:]:\n",
    "            if l:\n",
    "                record = l.split(',')\n",
    "                c = calendar(fields, record)\n",
    "                self._calendars[c.service_id] = c\n",
    "    \n",
    "    @property\n",
    "    def calendars(self):\n",
    "        return self._calendars\n",
    "            \n",
    "        \n",
    "class calendar(object):\n",
    "    \n",
    "    def __init__(self, fields, record):\n",
    "        self._fields = fields\n",
    "        self._record = record\n",
    "        self.load()\n",
    "    \n",
    "    def load(self):\n",
    "        self._values = {}\n",
    "        for i in range(len(self._record)):\n",
    "            value = self._record[i]\n",
    "            field = self._fields[i]\n",
    "            self.__dict__[field] = value\n",
    "            self._values[field] = value\n",
    "\n",
    "    def __repr__(self):\n",
    "        return self.service_id\t + ' - ' + self.start_date\n",
    "    \n",
    "    def __str__(self):\n",
    "        return self.service_id\t + ' - ' + self.start_date"
   ]
  },
  {
   "cell_type": "code",
   "execution_count": 10,
   "metadata": {},
   "outputs": [],
   "source": [
    "cals = calendars('./calendar.txt')"
   ]
  },
  {
   "cell_type": "code",
   "execution_count": null,
   "metadata": {},
   "outputs": [],
   "source": [
    "cals.calendars"
   ]
  },
  {
   "cell_type": "code",
   "execution_count": 15,
   "metadata": {},
   "outputs": [],
   "source": [
    "t = [4,2,3]"
   ]
  },
  {
   "cell_type": "code",
   "execution_count": 12,
   "metadata": {},
   "outputs": [],
   "source": [
    "t.sort()"
   ]
  },
  {
   "cell_type": "code",
   "execution_count": 16,
   "metadata": {},
   "outputs": [
    {
     "data": {
      "text/plain": [
       "[2, 3, 4]"
      ]
     },
     "execution_count": 16,
     "metadata": {},
     "output_type": "execute_result"
    }
   ],
   "source": [
    "sorted(t)"
   ]
  },
  {
   "cell_type": "code",
   "execution_count": 17,
   "metadata": {},
   "outputs": [
    {
     "data": {
      "text/plain": [
       "[4, 2, 3]"
      ]
     },
     "execution_count": 17,
     "metadata": {},
     "output_type": "execute_result"
    }
   ],
   "source": [
    "t"
   ]
  },
  {
   "cell_type": "code",
   "execution_count": 77,
   "metadata": {},
   "outputs": [],
   "source": [
    "t = datetime.time(3,0,0)"
   ]
  },
  {
   "cell_type": "code",
   "execution_count": 79,
   "metadata": {},
   "outputs": [
    {
     "data": {
      "text/plain": [
       "'03:00:00'"
      ]
     },
     "execution_count": 79,
     "metadata": {},
     "output_type": "execute_result"
    }
   ],
   "source": [
    "t.isoformat()"
   ]
  },
  {
   "cell_type": "code",
   "execution_count": 82,
   "metadata": {},
   "outputs": [],
   "source": [
    "s = stps.stops[0]"
   ]
  },
  {
   "cell_type": "code",
   "execution_count": 83,
   "metadata": {},
   "outputs": [
    {
     "data": {
      "text/plain": [
       "'45.555277'"
      ]
     },
     "execution_count": 83,
     "metadata": {},
     "output_type": "execute_result"
    }
   ],
   "source": [
    "s.stop_lat"
   ]
  },
  {
   "cell_type": "code",
   "execution_count": 84,
   "metadata": {},
   "outputs": [
    {
     "data": {
      "text/plain": [
       "'-73.668172'"
      ]
     },
     "execution_count": 84,
     "metadata": {},
     "output_type": "execute_result"
    }
   ],
   "source": [
    "s.stop_lon"
   ]
  },
  {
   "cell_type": "code",
   "execution_count": 85,
   "metadata": {},
   "outputs": [
    {
     "name": "stdout",
     "output_type": "stream",
     "text": [
      "{'id': 123, 'visible': True, 'version': 8, 'changeset': 38852974, 'timestamp': datetime.datetime(2016, 4, 25, 10, 30, 27), 'user': 'Noen', 'uid': 605010, 'lat': 59.9503286, 'lon': 10.7899198, 'tag': {}}\n"
     ]
    }
   ],
   "source": [
    "import osmapi\n",
    "api = osmapi.OsmApi()\n",
    "print(api.NodeGet(123))"
   ]
  },
  {
   "cell_type": "code",
   "execution_count": 86,
   "metadata": {},
   "outputs": [],
   "source": [
    "api = osmapi.OsmApi(api=\"https://api06.dev.openstreetmap.org\", username = \"fjacob78\", password = \"Gtrf182869\")"
   ]
  },
  {
   "cell_type": "code",
   "execution_count": 94,
   "metadata": {},
   "outputs": [
    {
     "data": {
      "text/plain": [
       "[]"
      ]
     },
     "execution_count": 94,
     "metadata": {},
     "output_type": "execute_result"
    }
   ],
   "source": [
    "api.Map(-73.668172, 45.555277, -73.668172, 45.555277)"
   ]
  },
  {
   "cell_type": "code",
   "execution_count": 50,
   "metadata": {},
   "outputs": [
    {
     "data": {
      "text/plain": [
       "[192547527 - 5469627:06:00:27:06:00,\n",
       " 192547527 - 5456627:09:26:27:09:26,\n",
       " 192547527 - 5456927:09:48:27:09:48,\n",
       " 192547527 - 5458727:10:29:27:10:29,\n",
       " 192547527 - 5471627:10:55:27:10:55,\n",
       " 192547527 - 5459727:11:22:27:11:22,\n",
       " 192547527 - 5462027:13:00:27:13:00,\n",
       " 192547527 - 5461127:13:43:27:13:43,\n",
       " 192547527 - 5460827:14:29:27:14:29,\n",
       " 192547527 - 5460727:15:02:27:15:02,\n",
       " 192547527 - 5463027:15:47:27:15:47,\n",
       " 192547527 - 5470927:06:04:27:06:04,\n",
       " 192547527 - 5464727:16:14:27:16:14,\n",
       " 192547527 - 5465227:16:41:27:16:41,\n",
       " 192547527 - 5466227:16:59:27:16:59,\n",
       " 192547527 - 5466927:17:42:27:17:42,\n",
       " 192547527 - 5467327:18:14:27:18:14,\n",
       " 192547527 - 5467527:18:47:27:18:47,\n",
       " 192547527 - 5467727:19:07:27:19:07,\n",
       " 192547527 - 5326627:19:30:27:19:30,\n",
       " 192547527 - 5328827:19:50:27:19:50,\n",
       " 192547527 - 5327827:20:24:27:20:24,\n",
       " 192547527 - 5453127:06:19:27:06:19,\n",
       " 192547527 - 5325227:21:00:27:21:00,\n",
       " 192547527 - 5324127:21:29:27:21:29,\n",
       " 192547527 - 5320627:22:39:27:22:39,\n",
       " 192547527 - 5319627:23:03:27:23:03,\n",
       " 192547527 - 5318527:23:30:27:23:30,\n",
       " 192547527 - 5317727:23:50:27:23:50,\n",
       " 192547527 - 5316427:24:16:27:24:16,\n",
       " 192547527 - 5314927:24:41:27:24:41,\n",
       " 192547527 - 5313027:25:06:27:25:06,\n",
       " 192547527 - 5312027:25:26:27:25:26,\n",
       " 192547527 - 5470527:06:59:27:06:59,\n",
       " 192547527 - 5370627:25:55:27:25:55,\n",
       " 192547527 - 5309927:26:16:27:26:16,\n",
       " 192547527 - 5307727:26:51:27:26:51,\n",
       " 192547527 - 5306927:27:11:27:27:11,\n",
       " 192547527 - 5370527:27:29:27:27:29,\n",
       " 192547527 - 5304027:28:00:27:28:00,\n",
       " 192547527 - 5372627:28:28:27:28:28,\n",
       " 192547527 - 5298527:29:20:27:29:20,\n",
       " 192547527 - 5370427:30:28:27:30:28,\n",
       " 192547527 - 5296027:31:43:27:31:43,\n",
       " 192547527 - 5472527:07:35:27:07:35,\n",
       " 192547527 - 5296227:32:02:27:32:02,\n",
       " 192547527 - 5295727:32:35:27:32:35,\n",
       " 192547527 - 5416427:32:52:27:32:52,\n",
       " 192547527 - 5294827:33:16:27:33:16,\n",
       " 192547527 - 5294127:33:39:27:33:39,\n",
       " 192547527 - 5292327:34:00:27:34:00,\n",
       " 192547527 - 5289927:34:29:27:34:29,\n",
       " 192547527 - 5287527:35:17:27:35:17,\n",
       " 192547527 - 5283627:35:41:27:35:41,\n",
       " 192547527 - 5281127:36:42:27:36:42,\n",
       " 192547527 - 5472727:07:56:27:07:56,\n",
       " 192547527 - 5278927:37:22:27:37:22,\n",
       " 192547527 - 5286427:38:16:27:38:16,\n",
       " 192547527 - 5294627:38:58:27:38:58,\n",
       " 192547527 - 5301627:40:00:27:40:00,\n",
       " 192547527 - 5307527:40:27:27:40:27,\n",
       " 192547527 - 5311227:41:13:27:41:13,\n",
       " 192547527 - 5303127:46:07:27:46:07,\n",
       " 192547527 - 5298027:47:02:27:47:02,\n",
       " 192547527 - 5295427:47:27:27:47:27,\n",
       " 192547527 - 5293027:47:47:27:47:47,\n",
       " 192547527 - 5472627:08:13:27:08:13,\n",
       " 192547527 - 5290527:48:05:27:48:05,\n",
       " 192547527 - 5288127:48:26:27:48:26,\n",
       " 192547527 - 5283427:49:11:27:49:11,\n",
       " 192547527 - 5278327:50:00:27:50:00,\n",
       " 192547527 - 5274527:50:19:27:50:19,\n",
       " 192547527 - 5269727:51:09:27:51:09,\n",
       " 192547527 - 5262527:52:13:27:52:13,\n",
       " 192547527 - 5258727:52:40:27:52:40,\n",
       " 192547527 - 5252927:53:27:27:53:27,\n",
       " 192547527 - 5248327:53:57:27:53:57,\n",
       " 192547527 - 5454827:08:39:27:08:39,\n",
       " 192547527 - 5246327:54:19:27:54:19,\n",
       " 192547527 - 5241627:54:56:27:54:56,\n",
       " 192547527 - 5237327:55:30:27:55:30,\n",
       " 192547527 - 5232727:56:06:27:56:06,\n",
       " 192547527 - 5228427:56:47:27:56:47,\n",
       " 192547527 - 5219827:57:56:27:57:56,\n",
       " 192547527 - 5214927:58:21:27:58:21,\n",
       " 192547527 - 5207827:59:00:27:59:00,\n",
       " 192547527 - 5414828:03:00:28:03:00,\n",
       " 192547527 - 5456127:08:59:27:08:59]"
      ]
     },
     "execution_count": 50,
     "metadata": {},
     "output_type": "execute_result"
    }
   ],
   "source": [
    "stp_times.get_times(trip.trip_id)"
   ]
  },
  {
   "cell_type": "code",
   "execution_count": null,
   "metadata": {},
   "outputs": [],
   "source": []
  }
 ],
 "metadata": {
  "kernelspec": {
   "display_name": "Python 3",
   "language": "python",
   "name": "python3"
  },
  "language_info": {
   "codemirror_mode": {
    "name": "ipython",
    "version": 3
   },
   "file_extension": ".py",
   "mimetype": "text/x-python",
   "name": "python",
   "nbconvert_exporter": "python",
   "pygments_lexer": "ipython3",
   "version": "3.7.1"
  }
 },
 "nbformat": 4,
 "nbformat_minor": 2
}
