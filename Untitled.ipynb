{
 "cells": [
  {
   "cell_type": "code",
   "execution_count": 42,
   "metadata": {},
   "outputs": [
    {
     "name": "stderr",
     "output_type": "stream",
     "text": [
      "/usr/local/lib/python3.7/site-packages/ipykernel_launcher.py:6: RuntimeWarning: Unexpected end-group tag: Not all data was converted\n",
      "  \n"
     ]
    }
   ],
   "source": [
    "from google.transit import gtfs_realtime_pb2\n",
    "import urllib\n",
    "\n",
    "feed = gtfs_realtime_pb2.FeedMessage()\n",
    "response = urllib.request.urlopen('http://www.veneziaunica.it') #https://api.stm.info/pub/od/gtfs-rt/ic/v1')\n",
    "feed.ParseFromString(response.read())\n",
    "for entity in feed.entity:\n",
    "  if entity.HasField('trip_update'):\n",
    "    print(entity.trip_update)"
   ]
  },
  {
   "cell_type": "code",
   "execution_count": null,
   "metadata": {},
   "outputs": [],
   "source": [
    "response = urllib.request.urlopen('http://www.veneziaunica.it')\n",
    "response.read()"
   ]
  },
  {
   "cell_type": "code",
   "execution_count": 43,
   "metadata": {},
   "outputs": [],
   "source": [
    "import requests"
   ]
  },
  {
   "cell_type": "code",
   "execution_count": 44,
   "metadata": {},
   "outputs": [],
   "source": [
    "headers = {'apikey': 'l7xx1a8dc791604f40f3836424d7d9b3cce4'}\n",
    "rp = requests.post('https://api.stm.info/pub/od/gtfs-rt/ic/v1/vehiclePositions', headers=headers)\n",
    "ru = requests.post('https://api.stm.info/pub/od/gtfs-rt/ic/v1/tripUpdates', headers=headers)"
   ]
  },
  {
   "cell_type": "code",
   "execution_count": 45,
   "metadata": {},
   "outputs": [
    {
     "data": {
      "text/plain": [
       "770019"
      ]
     },
     "execution_count": 45,
     "metadata": {},
     "output_type": "execute_result"
    }
   ],
   "source": [
    "rp_feed = gtfs_realtime_pb2.FeedMessage()\n",
    "ru_feed = gtfs_realtime_pb2.FeedMessage()\n",
    "rp_feed.ParseFromString(rp.content)\n",
    "ru_feed.ParseFromString(ru.content)"
   ]
  },
  {
   "cell_type": "code",
   "execution_count": null,
   "metadata": {},
   "outputs": [],
   "source": []
  },
  {
   "cell_type": "code",
   "execution_count": 30,
   "metadata": {},
   "outputs": [
    {
     "data": {
      "text/plain": [
       "b'\\n\\r\\n\\x031.0\\x10\\x00\\x18\\xfc\\xb0\\xde\\xe3\\x05'"
      ]
     },
     "execution_count": 30,
     "metadata": {},
     "output_type": "execute_result"
    }
   ],
   "source": [
    "r.content\n"
   ]
  },
  {
   "cell_type": "code",
   "execution_count": 49,
   "metadata": {},
   "outputs": [
    {
     "name": "stdout",
     "output_type": "stream",
     "text": [
      "id: \"27020\"\n",
      "is_deleted: false\n",
      "vehicle {\n",
      "  trip {\n",
      "    trip_id: \"190429334\"\n",
      "    start_time: \"20:54:00\"\n",
      "    start_date: \"20190301\"\n",
      "    route_id: \"215\"\n",
      "  }\n",
      "  position {\n",
      "    latitude: 45.518184661865234\n",
      "    longitude: -73.71526336669922\n",
      "  }\n",
      "  current_stop_sequence: 11\n",
      "  current_status: IN_TRANSIT_TO\n",
      "  timestamp: 1551492372\n",
      "  vehicle {\n",
      "    id: \"27020\"\n",
      "  }\n",
      "}\n",
      "\n",
      "id: \"30154\"\n",
      "is_deleted: false\n",
      "vehicle {\n",
      "  trip {\n",
      "    trip_id: \"190429505\"\n",
      "    start_time: \"20:38:00\"\n",
      "    start_date: \"20190301\"\n",
      "    route_id: \"215\"\n",
      "  }\n",
      "  position {\n",
      "    latitude: 45.49646759033203\n",
      "    longitude: -73.75264739990234\n",
      "  }\n",
      "  current_stop_sequence: 26\n",
      "  current_status: IN_TRANSIT_TO\n",
      "  timestamp: 1551492375\n",
      "  vehicle {\n",
      "    id: \"30154\"\n",
      "  }\n",
      "}\n",
      "\n",
      "id: \"38099\"\n",
      "is_deleted: false\n",
      "vehicle {\n",
      "  trip {\n",
      "    trip_id: \"190426442\"\n",
      "    start_time: \"21:10:00\"\n",
      "    start_date: \"20190301\"\n",
      "    route_id: \"215\"\n",
      "  }\n",
      "  position {\n",
      "    latitude: 45.46516799926758\n",
      "    longitude: -73.83126831054688\n",
      "  }\n",
      "  current_stop_sequence: 1\n",
      "  current_status: STOPPED_AT\n",
      "  timestamp: 1551492371\n",
      "  vehicle {\n",
      "    id: \"38099\"\n",
      "  }\n",
      "}\n",
      "\n"
     ]
    }
   ],
   "source": [
    "for e in rp_feed.entity:\n",
    "    if e.vehicle.trip.route_id == '215':\n",
    "        print(e)"
   ]
  },
  {
   "cell_type": "code",
   "execution_count": 50,
   "metadata": {},
   "outputs": [
    {
     "data": {
      "text/plain": [
       "190426442 - 215"
      ]
     },
     "execution_count": 50,
     "metadata": {},
     "output_type": "execute_result"
    }
   ],
   "source": [
    "t = trps.trips['190426442']\n"
   ]
  },
  {
   "cell_type": "code",
   "execution_count": 9,
   "metadata": {},
   "outputs": [],
   "source": []
  },
  {
   "cell_type": "code",
   "execution_count": null,
   "metadata": {},
   "outputs": [],
   "source": [
    "from transitfeed.transitfeed import *"
   ]
  },
  {
   "cell_type": "code",
   "execution_count": 60,
   "metadata": {},
   "outputs": [],
   "source": [
    "with open('./trips.txt', 'rt') as f:\n",
    "    d = f.read()\n",
    "    lines = d.split('\\n')"
   ]
  },
  {
   "cell_type": "code",
   "execution_count": 61,
   "metadata": {},
   "outputs": [],
   "source": [
    "fields = lines[0].split(',')"
   ]
  },
  {
   "cell_type": "code",
   "execution_count": 62,
   "metadata": {},
   "outputs": [],
   "source": [
    "record = lines[1].split(',')"
   ]
  },
  {
   "cell_type": "code",
   "execution_count": 18,
   "metadata": {},
   "outputs": [],
   "source": [
    "trips = []\n",
    "for r in lines[1:]:\n",
    "    if r:\n",
    "        routes.append(route(fields, r.split(',')))"
   ]
  },
  {
   "cell_type": "code",
   "execution_count": 39,
   "metadata": {},
   "outputs": [],
   "source": [
    "e = feed.entity[0]"
   ]
  },
  {
   "cell_type": "code",
   "execution_count": 48,
   "metadata": {},
   "outputs": [],
   "source": [
    "trip = trps.trips[e.trip_update.trip.trip_id]"
   ]
  },
  {
   "cell_type": "code",
   "execution_count": 46,
   "metadata": {},
   "outputs": [],
   "source": [
    "class agencies(object):\n",
    "    \n",
    "    def __init__(self, filename):\n",
    "        self._filename = filename\n",
    "        self.load()\n",
    "    \n",
    "    def load(self):\n",
    "        with open(self._filename, 'rt') as f:\n",
    "            d = f.read()\n",
    "            lines = d.split('\\n')\n",
    "        fields = lines[0].split(',')\n",
    "        self._agencies = []\n",
    "        for l in lines[1:]:\n",
    "            if l:\n",
    "                record = l.split(',')\n",
    "                self._agencies.append(agency(fields, record))\n",
    "    \n",
    "    @property\n",
    "    def agencies(self):\n",
    "        return self._agencies\n",
    "            \n",
    "        \n",
    "class agency(object):\n",
    "    \n",
    "    def __init__(self, fields, record):\n",
    "        self._fields = fields\n",
    "        self._record = record\n",
    "        self.load()\n",
    "    \n",
    "    def load(self):\n",
    "        self._values = {}\n",
    "        for i in range(len(self._record)):\n",
    "            value = self._record[i]\n",
    "            field = self._fields[i]\n",
    "            self.__dict__[field] = value\n",
    "            self._values[field] = value\n",
    "\n",
    "    def __repr__(self):\n",
    "        return self.agency_id + ' - ' + self.agency_name\n",
    "    \n",
    "    def __str__(self):\n",
    "        return self.agency_id + ' - ' + self.agency_name"
   ]
  },
  {
   "cell_type": "code",
   "execution_count": 47,
   "metadata": {},
   "outputs": [],
   "source": [
    "ag = agencies('./agency.txt')"
   ]
  },
  {
   "cell_type": "code",
   "execution_count": 48,
   "metadata": {},
   "outputs": [
    {
     "data": {
      "text/plain": [
       "[STM - \"Société de transport de Montréal\"]"
      ]
     },
     "execution_count": 48,
     "metadata": {},
     "output_type": "execute_result"
    }
   ],
   "source": [
    "ag.agencies"
   ]
  },
  {
   "cell_type": "code",
   "execution_count": 51,
   "metadata": {},
   "outputs": [],
   "source": [
    "TYPE_TRAM = '0'\n",
    "TYPE_METRO = '1'\n",
    "TYPE_TRAIN = '2'\n",
    "TYPE_BUS = '3'\n",
    "TYPE_FERRY = '4'\n",
    "TYPE_CABLETRAM = '5'\n",
    "TYPE_AERIAL = '6'\n",
    "TYPE_FENICULAR = '7'\n",
    "\n",
    "route_type = {}\n",
    "route_type[TYPE_TRAM] = 'Tram'\n",
    "route_type[TYPE_METRO] = 'Metro'\n",
    "route_type[TYPE_TRAIN] = 'Train'\n",
    "route_type[TYPE_BUS] = 'Bus'\n",
    "route_type[TYPE_FERRY] = 'Ferry'\n",
    "route_type[TYPE_CABLETRAM] = 'Cable tram'\n",
    "route_type[TYPE_AERIAL] = 'Aerial lift'\n",
    "route_type[TYPE_FENICULAR] = 'Funicular'\n",
    "\n",
    "class routes(object):\n",
    "    \n",
    "    def __init__(self, filename):\n",
    "        self._filename = filename\n",
    "        self.load()\n",
    "    \n",
    "    def load(self):\n",
    "        with open(self._filename, 'rt') as f:\n",
    "            d = f.read()\n",
    "            lines = d.split('\\n')\n",
    "        fields = lines[0].split(',')\n",
    "        self._routes = []\n",
    "        for l in lines[1:]:\n",
    "            if l:\n",
    "                record = l.split(',')\n",
    "                self._routes.append(route(fields, record))\n",
    "    \n",
    "    @property\n",
    "    def routes(self):\n",
    "        return self._routes\n",
    "\n",
    "class route(object):\n",
    "    \n",
    "    def __init__(self, fields, record):\n",
    "        self._fields = fields\n",
    "        self._record = record\n",
    "        self.load()\n",
    "    \n",
    "    def load(self):\n",
    "        self._values = {}\n",
    "        for i in range(len(self._record)):\n",
    "            value = self._record[i]\n",
    "            field = self._fields[i]\n",
    "            self.__dict__[field] = value\n",
    "            self._values[field] = value\n",
    "    \n",
    "    def __repr__(self):\n",
    "        return self.route_id + ' - ' + self.route_long_name\n",
    "    \n",
    "    def __str__(self):\n",
    "        return self.route_id + ' - ' + self.route_long_name"
   ]
  },
  {
   "cell_type": "code",
   "execution_count": 52,
   "metadata": {},
   "outputs": [],
   "source": [
    "rs = routes('./routes.txt')"
   ]
  },
  {
   "cell_type": "code",
   "execution_count": null,
   "metadata": {},
   "outputs": [],
   "source": [
    "rs.routes"
   ]
  },
  {
   "cell_type": "code",
   "execution_count": 31,
   "metadata": {},
   "outputs": [],
   "source": [
    "from agency import agencies\n",
    "from route import routes\n",
    "from trip import trips\n",
    "from stop import stops\n",
    "from stop_time import stop_times\n",
    "from calendars import calendars\n",
    "from calendar_date import calendar_dates\n",
    "from fare_attribute import fare_attributes\n",
    "from fare_rule import fare_rules\n",
    "from frequencie import frequencies\n",
    "from shapes import shapes"
   ]
  },
  {
   "cell_type": "code",
   "execution_count": 32,
   "metadata": {},
   "outputs": [],
   "source": [
    "ags = agencies('./agency.txt')\n",
    "rts = routes('./routes.txt')\n",
    "trps = trips('./trips.txt')\n",
    "stps = stops('./stops.txt')\n",
    "stp_times = stop_times('./stop_times.txt')\n",
    "cals = calendars('./calendar.txt')\n",
    "cal_dates = calendar_dates('./calendar_dates.txt')\n",
    "fas = fare_attributes('./fare_attributes.txt')\n",
    "frs = fare_rules('./fare_rules.txt')\n",
    "fs = frequencies('./frequencies.txt')\n",
    "sps = shapes('./shapes.txt')"
   ]
  },
  {
   "cell_type": "code",
   "execution_count": 33,
   "metadata": {},
   "outputs": [
    {
     "data": {
      "text/plain": [
       "STM - \"Société de transport de Montréal\""
      ]
     },
     "execution_count": 33,
     "metadata": {},
     "output_type": "execute_result"
    }
   ],
   "source": [
    "ags.agencies['STM']"
   ]
  },
  {
   "cell_type": "code",
   "execution_count": null,
   "metadata": {},
   "outputs": [],
   "source": [
    "starts = []\n",
    "for ti in trps.trips:\n",
    "    t = trps.trips[ti]\n",
    "    if t.route_id == '215' and t.direction_id=='0':\n",
    "        #c = cals.calendars[t.service_id]\n",
    "        #times = stp_times.get_times(t.trip_id)\n",
    "        #h,m,s = times[0].departure_time.split(':')\n",
    "        #h = int(h)\n",
    "        #m = int(m)\n",
    "        #s = int(s)\n",
    "        #if h > 23:\n",
    "        #    h = h - 24\n",
    "        #print(h,m,s)\n",
    "        #starts.append(datetime.time(h,m,s))\n",
    "        print(t.shape_id)\n",
    "        starts.append(t)\n",
    "        \n",
    "        #print(times[0].stop_id, t.trip_id, t.trip_headsign, times[0].departure_time)"
   ]
  },
  {
   "cell_type": "code",
   "execution_count": null,
   "metadata": {},
   "outputs": [],
   "source": [
    "sps.shapes['2150142']"
   ]
  },
  {
   "cell_type": "code",
   "execution_count": 35,
   "metadata": {},
   "outputs": [],
   "source": [
    "cs = {}\n",
    "for t in starts:\n",
    "    if t.service_id not in cs:\n",
    "        cs[t.service_id] = []\n",
    "    cs[t.service_id].append(t)"
   ]
  },
  {
   "cell_type": "code",
   "execution_count": 36,
   "metadata": {},
   "outputs": [
    {
     "name": "stdout",
     "output_type": "stream",
     "text": [
      "20181103 20190105 42\n",
      "20181104 20190106 39\n",
      "20181029 20190104 45\n",
      "20181225 20181225 39\n",
      "20181226 20181226 42\n",
      "20190101 20190101 39\n",
      "20190102 20190102 42\n",
      "20190112 20190323 41\n",
      "20190113 20190324 39\n",
      "20190107 20190322 45\n"
     ]
    }
   ],
   "source": [
    "sts = ''\n",
    "stst = []\n",
    "for c in cs:\n",
    "    cal = cals.calendars[c]\n",
    "    if cal.start_date > sts:\n",
    "        sts = cal.start_date\n",
    "        stst = cs[c]\n",
    "    print(cal.start_date, cal.end_date, len(cs[c]))\n",
    "    "
   ]
  },
  {
   "cell_type": "code",
   "execution_count": 37,
   "metadata": {},
   "outputs": [
    {
     "ename": "AttributeError",
     "evalue": "'stop_times' object has no attribute 'get_times'",
     "output_type": "error",
     "traceback": [
      "\u001b[0;31m---------------------------------------------------------------------------\u001b[0m",
      "\u001b[0;31mAttributeError\u001b[0m                            Traceback (most recent call last)",
      "\u001b[0;32m<ipython-input-37-46bd63f9630a>\u001b[0m in \u001b[0;36m<module>\u001b[0;34m()\u001b[0m\n\u001b[1;32m      1\u001b[0m \u001b[0mstarts_times\u001b[0m \u001b[0;34m=\u001b[0m \u001b[0;34m[\u001b[0m\u001b[0;34m]\u001b[0m\u001b[0;34m\u001b[0m\u001b[0;34m\u001b[0m\u001b[0m\n\u001b[1;32m      2\u001b[0m \u001b[0;32mfor\u001b[0m \u001b[0mt\u001b[0m \u001b[0;32min\u001b[0m \u001b[0mstst\u001b[0m\u001b[0;34m:\u001b[0m\u001b[0;34m\u001b[0m\u001b[0;34m\u001b[0m\u001b[0m\n\u001b[0;32m----> 3\u001b[0;31m     \u001b[0mtimes\u001b[0m \u001b[0;34m=\u001b[0m \u001b[0mstp_times\u001b[0m\u001b[0;34m.\u001b[0m\u001b[0mget_times\u001b[0m\u001b[0;34m(\u001b[0m\u001b[0mt\u001b[0m\u001b[0;34m.\u001b[0m\u001b[0mtrip_id\u001b[0m\u001b[0;34m)\u001b[0m\u001b[0;34m\u001b[0m\u001b[0;34m\u001b[0m\u001b[0m\n\u001b[0m\u001b[1;32m      4\u001b[0m     \u001b[0mh\u001b[0m\u001b[0;34m,\u001b[0m\u001b[0mm\u001b[0m\u001b[0;34m,\u001b[0m\u001b[0ms\u001b[0m \u001b[0;34m=\u001b[0m \u001b[0mtimes\u001b[0m\u001b[0;34m[\u001b[0m\u001b[0;36m0\u001b[0m\u001b[0;34m]\u001b[0m\u001b[0;34m.\u001b[0m\u001b[0mdeparture_time\u001b[0m\u001b[0;34m.\u001b[0m\u001b[0msplit\u001b[0m\u001b[0;34m(\u001b[0m\u001b[0;34m':'\u001b[0m\u001b[0;34m)\u001b[0m\u001b[0;34m\u001b[0m\u001b[0;34m\u001b[0m\u001b[0m\n\u001b[1;32m      5\u001b[0m     \u001b[0mh\u001b[0m \u001b[0;34m=\u001b[0m \u001b[0mint\u001b[0m\u001b[0;34m(\u001b[0m\u001b[0mh\u001b[0m\u001b[0;34m)\u001b[0m\u001b[0;34m\u001b[0m\u001b[0;34m\u001b[0m\u001b[0m\n",
      "\u001b[0;31mAttributeError\u001b[0m: 'stop_times' object has no attribute 'get_times'"
     ]
    }
   ],
   "source": [
    "starts_times = []\n",
    "for t in stst:\n",
    "    times = stp_times.get_times(t.trip_id)\n",
    "    h,m,s = times[0].departure_time.split(':')\n",
    "    h = int(h)\n",
    "    m = int(m)\n",
    "    s = int(s)\n",
    "    if h > 23:\n",
    "        h = h - 24\n",
    "    starts_times.append(datetime.time(h,m,s))\n",
    "    print(times[0].departure_time)"
   ]
  },
  {
   "cell_type": "code",
   "execution_count": null,
   "metadata": {},
   "outputs": [],
   "source": [
    "for t in starts_times:\n",
    "    print(t.isoformat())"
   ]
  },
  {
   "cell_type": "code",
   "execution_count": 34,
   "metadata": {},
   "outputs": [
    {
     "ename": "AttributeError",
     "evalue": "'stop_time' object has no attribute 'route_id'",
     "output_type": "error",
     "traceback": [
      "\u001b[0;31m---------------------------------------------------------------------------\u001b[0m",
      "\u001b[0;31mAttributeError\u001b[0m                            Traceback (most recent call last)",
      "\u001b[0;32m<ipython-input-34-018440133257>\u001b[0m in \u001b[0;36m<module>\u001b[0;34m()\u001b[0m\n\u001b[1;32m      1\u001b[0m \u001b[0;32mfor\u001b[0m \u001b[0ms\u001b[0m \u001b[0;32min\u001b[0m \u001b[0mstp_times\u001b[0m\u001b[0;34m.\u001b[0m\u001b[0mstop_times\u001b[0m\u001b[0;34m:\u001b[0m\u001b[0;34m\u001b[0m\u001b[0;34m\u001b[0m\u001b[0m\n\u001b[0;32m----> 2\u001b[0;31m     \u001b[0;32mif\u001b[0m \u001b[0ms\u001b[0m\u001b[0;34m.\u001b[0m\u001b[0mroute_id\u001b[0m \u001b[0;34m==\u001b[0m \u001b[0;34m'215'\u001b[0m\u001b[0;34m:\u001b[0m\u001b[0;34m\u001b[0m\u001b[0;34m\u001b[0m\u001b[0m\n\u001b[0m\u001b[1;32m      3\u001b[0m         \u001b[0mc\u001b[0m \u001b[0;34m=\u001b[0m \u001b[0mcals\u001b[0m\u001b[0;34m.\u001b[0m\u001b[0mcalendars\u001b[0m\u001b[0;34m[\u001b[0m\u001b[0mt\u001b[0m\u001b[0;34m.\u001b[0m\u001b[0mservice_id\u001b[0m\u001b[0;34m]\u001b[0m\u001b[0;34m\u001b[0m\u001b[0;34m\u001b[0m\u001b[0m\n\u001b[1;32m      4\u001b[0m         \u001b[0mprint\u001b[0m\u001b[0;34m(\u001b[0m\u001b[0mt\u001b[0m\u001b[0;34m.\u001b[0m\u001b[0mservice_id\u001b[0m\u001b[0;34m)\u001b[0m\u001b[0;34m\u001b[0m\u001b[0;34m\u001b[0m\u001b[0m\n",
      "\u001b[0;31mAttributeError\u001b[0m: 'stop_time' object has no attribute 'route_id'"
     ]
    }
   ],
   "source": [
    "for s in stp_times.stop_times:\n",
    "    if s.route_id == '215':\n",
    "        c = cals.calendars[t.service_id]\n",
    "        print(t.service_id)"
   ]
  },
  {
   "cell_type": "code",
   "execution_count": 70,
   "metadata": {},
   "outputs": [],
   "source": [
    "class trips(object):\n",
    "    \n",
    "    def __init__(self, filename):\n",
    "        self._filename = filename\n",
    "        self.load()\n",
    "    \n",
    "    def load(self):\n",
    "        with open(self._filename, 'rt') as f:\n",
    "            d = f.read()\n",
    "            lines = d.split('\\n')\n",
    "        fields = lines[0].split(',')\n",
    "        self._trips = []\n",
    "        for l in lines[1:]:\n",
    "            if l:\n",
    "                record = l.split(',')\n",
    "                self._trips.append(trip(fields, record))\n",
    "    \n",
    "    @property\n",
    "    def trips(self):\n",
    "        return self._trips\n",
    "            \n",
    "        \n",
    "class trip(object):\n",
    "    \n",
    "    def __init__(self, fields, record):\n",
    "        self._fields = fields\n",
    "        self._record = record\n",
    "        self.load()\n",
    "    \n",
    "    def load(self):\n",
    "        self._values = {}\n",
    "        for i in range(len(self._record)):\n",
    "            value = self._record[i]\n",
    "            field = self._fields[i]\n",
    "            self.__dict__[field] = value\n",
    "            self._values[field] = value\n",
    "\n",
    "    def __repr__(self):\n",
    "        return self.trip_id + ' - ' + self.route_id\n",
    "    \n",
    "    def __str__(self):\n",
    "        return self.trip_id + ' - ' + self.route_id"
   ]
  },
  {
   "cell_type": "code",
   "execution_count": 71,
   "metadata": {},
   "outputs": [],
   "source": [
    "trs = trips('./trips.txt')"
   ]
  },
  {
   "cell_type": "code",
   "execution_count": null,
   "metadata": {},
   "outputs": [],
   "source": [
    "trs.trips"
   ]
  },
  {
   "cell_type": "code",
   "execution_count": 77,
   "metadata": {},
   "outputs": [],
   "source": [
    "class stops(object):\n",
    "    \n",
    "    def __init__(self, filename):\n",
    "        self._filename = filename\n",
    "        self.load()\n",
    "    \n",
    "    def load(self):\n",
    "        with open(self._filename, 'rt') as f:\n",
    "            d = f.read()\n",
    "            lines = d.split('\\n')\n",
    "        fields = lines[0].split(',')\n",
    "        self._stops = []\n",
    "        for l in lines[1:]:\n",
    "            if l:\n",
    "                record = l.split(',')\n",
    "                self._stops.append(stop(fields, record))\n",
    "    \n",
    "    @property\n",
    "    def stops(self):\n",
    "        return self._stops\n",
    "            \n",
    "        \n",
    "class stop(object):\n",
    "    \n",
    "    def __init__(self, fields, record):\n",
    "        self._fields = fields\n",
    "        self._record = record\n",
    "        self.load()\n",
    "    \n",
    "    def load(self):\n",
    "        self._values = {}\n",
    "        for i in range(len(self._record)):\n",
    "            value = self._record[i]\n",
    "            field = self._fields[i]\n",
    "            self.__dict__[field] = value\n",
    "            self._values[field] = value\n",
    "\n",
    "    def __repr__(self):\n",
    "        return self.stop_id + ' - ' + self.stop_code\n",
    "    \n",
    "    def __str__(self):\n",
    "        return self.stop_id + ' - ' + self.stop_code"
   ]
  },
  {
   "cell_type": "code",
   "execution_count": 78,
   "metadata": {},
   "outputs": [],
   "source": [
    "stps = stops('./stops.txt')"
   ]
  },
  {
   "cell_type": "code",
   "execution_count": 84,
   "metadata": {},
   "outputs": [],
   "source": [
    "class stop_times(object):\n",
    "    \n",
    "    def __init__(self, filename):\n",
    "        self._filename = filename\n",
    "        self.load()\n",
    "    \n",
    "    def load(self):\n",
    "        with open(self._filename, 'rt') as f:\n",
    "            d = f.read()\n",
    "            lines = d.split('\\n')\n",
    "        fields = lines[0].split(',')\n",
    "        self._stop_times = []\n",
    "        for l in lines[1:]:\n",
    "            if l:\n",
    "                record = l.split(',')\n",
    "                self._stop_times.append(stop_time(fields, record))\n",
    "    \n",
    "    @property\n",
    "    def stop_times(self):\n",
    "        return self._stop_times\n",
    "            \n",
    "        \n",
    "class stop_time(object):\n",
    "    \n",
    "    def __init__(self, fields, record):\n",
    "        self._fields = fields\n",
    "        self._record = record\n",
    "        self.load()\n",
    "    \n",
    "    def load(self):\n",
    "        self._values = {}\n",
    "        for i in range(len(self._record)):\n",
    "            value = self._record[i]\n",
    "            field = self._fields[i]\n",
    "            self.__dict__[field] = value\n",
    "            self._values[field] = value\n",
    "\n",
    "    def __repr__(self):\n",
    "        return self.trip_id + ' - ' + self.stop_id + self.arrival_time + ':' + self.departure_time\n",
    "    \n",
    "    def __str__(self):\n",
    "        return self.trip_id + ' - ' + self.stop_id + self.arrival_time + ':' + self.departure_time"
   ]
  },
  {
   "cell_type": "code",
   "execution_count": 85,
   "metadata": {},
   "outputs": [],
   "source": [
    "times = stop_times('./stop_times.txt')"
   ]
  },
  {
   "cell_type": "code",
   "execution_count": null,
   "metadata": {},
   "outputs": [],
   "source": [
    "times.stop_times"
   ]
  },
  {
   "cell_type": "code",
   "execution_count": 9,
   "metadata": {},
   "outputs": [],
   "source": [
    "class calendars(object):\n",
    "    \n",
    "    def __init__(self, filename):\n",
    "        self._filename = filename\n",
    "        self.load()\n",
    "    \n",
    "    def load(self):\n",
    "        with open(self._filename, 'rt') as f:\n",
    "            d = f.read()\n",
    "            lines = d.split('\\n')\n",
    "        fields = lines[0].split(',')\n",
    "        self._calendars = {}\n",
    "        for l in lines[1:]:\n",
    "            if l:\n",
    "                record = l.split(',')\n",
    "                c = calendar(fields, record)\n",
    "                self._calendars[c.service_id] = c\n",
    "    \n",
    "    @property\n",
    "    def calendars(self):\n",
    "        return self._calendars\n",
    "            \n",
    "        \n",
    "class calendar(object):\n",
    "    \n",
    "    def __init__(self, fields, record):\n",
    "        self._fields = fields\n",
    "        self._record = record\n",
    "        self.load()\n",
    "    \n",
    "    def load(self):\n",
    "        self._values = {}\n",
    "        for i in range(len(self._record)):\n",
    "            value = self._record[i]\n",
    "            field = self._fields[i]\n",
    "            self.__dict__[field] = value\n",
    "            self._values[field] = value\n",
    "\n",
    "    def __repr__(self):\n",
    "        return self.service_id\t + ' - ' + self.start_date\n",
    "    \n",
    "    def __str__(self):\n",
    "        return self.service_id\t + ' - ' + self.start_date"
   ]
  },
  {
   "cell_type": "code",
   "execution_count": 10,
   "metadata": {},
   "outputs": [],
   "source": [
    "cals = calendars('./calendar.txt')"
   ]
  },
  {
   "cell_type": "code",
   "execution_count": null,
   "metadata": {},
   "outputs": [],
   "source": [
    "cals.calendars"
   ]
  },
  {
   "cell_type": "code",
   "execution_count": 15,
   "metadata": {},
   "outputs": [],
   "source": [
    "t = [4,2,3]"
   ]
  },
  {
   "cell_type": "code",
   "execution_count": 12,
   "metadata": {},
   "outputs": [],
   "source": [
    "t.sort()"
   ]
  },
  {
   "cell_type": "code",
   "execution_count": 16,
   "metadata": {},
   "outputs": [
    {
     "data": {
      "text/plain": [
       "[2, 3, 4]"
      ]
     },
     "execution_count": 16,
     "metadata": {},
     "output_type": "execute_result"
    }
   ],
   "source": [
    "sorted(t)"
   ]
  },
  {
   "cell_type": "code",
   "execution_count": 17,
   "metadata": {},
   "outputs": [
    {
     "data": {
      "text/plain": [
       "[4, 2, 3]"
      ]
     },
     "execution_count": 17,
     "metadata": {},
     "output_type": "execute_result"
    }
   ],
   "source": [
    "t"
   ]
  },
  {
   "cell_type": "code",
   "execution_count": 77,
   "metadata": {},
   "outputs": [],
   "source": [
    "t = datetime.time(3,0,0)"
   ]
  },
  {
   "cell_type": "code",
   "execution_count": 79,
   "metadata": {},
   "outputs": [
    {
     "data": {
      "text/plain": [
       "'03:00:00'"
      ]
     },
     "execution_count": 79,
     "metadata": {},
     "output_type": "execute_result"
    }
   ],
   "source": [
    "t.isoformat()"
   ]
  },
  {
   "cell_type": "code",
   "execution_count": 82,
   "metadata": {},
   "outputs": [],
   "source": [
    "s = stps.stops[0]"
   ]
  },
  {
   "cell_type": "code",
   "execution_count": 83,
   "metadata": {},
   "outputs": [
    {
     "data": {
      "text/plain": [
       "'45.555277'"
      ]
     },
     "execution_count": 83,
     "metadata": {},
     "output_type": "execute_result"
    }
   ],
   "source": [
    "s.stop_lat"
   ]
  },
  {
   "cell_type": "code",
   "execution_count": 84,
   "metadata": {},
   "outputs": [
    {
     "data": {
      "text/plain": [
       "'-73.668172'"
      ]
     },
     "execution_count": 84,
     "metadata": {},
     "output_type": "execute_result"
    }
   ],
   "source": [
    "s.stop_lon"
   ]
  },
  {
   "cell_type": "code",
   "execution_count": 61,
   "metadata": {},
   "outputs": [
    {
     "name": "stdout",
     "output_type": "stream",
     "text": [
      "{'id': 123, 'visible': True, 'version': 8, 'changeset': 38852974, 'timestamp': datetime.datetime(2016, 4, 25, 10, 30, 27), 'user': 'Noen', 'uid': 605010, 'lat': 59.9503286, 'lon': 10.7899198, 'tag': {}}\n"
     ]
    }
   ],
   "source": [
    "import osmapi\n",
    "api = osmapi.OsmApi()\n",
    "print(api.NodeGet(123))"
   ]
  },
  {
   "cell_type": "code",
   "execution_count": 62,
   "metadata": {},
   "outputs": [],
   "source": [
    "api = osmapi.OsmApi(api=\"https://api06.dev.openstreetmap.org\", username = \"fjacob78\", password = \"Gtrf182869\")"
   ]
  },
  {
   "cell_type": "code",
   "execution_count": 65,
   "metadata": {},
   "outputs": [
    {
     "ename": "ApiError",
     "evalue": "Request failed: 400 - Bad Request - b'The latitudes must be between -90 and 90, longitudes between -180 and 180 and the minima must be less than the maxima.'",
     "output_type": "error",
     "traceback": [
      "\u001b[0;31m---------------------------------------------------------------------------\u001b[0m",
      "\u001b[0;31mApiError\u001b[0m                                  Traceback (most recent call last)",
      "\u001b[0;32m<ipython-input-65-5cb420123f15>\u001b[0m in \u001b[0;36m<module>\u001b[0;34m()\u001b[0m\n\u001b[0;32m----> 1\u001b[0;31m \u001b[0mapi\u001b[0m\u001b[0;34m.\u001b[0m\u001b[0mMap\u001b[0m\u001b[0;34m(\u001b[0m\u001b[0;36m45.555277\u001b[0m\u001b[0;34m,\u001b[0m \u001b[0;34m-\u001b[0m\u001b[0;36m73.668172\u001b[0m\u001b[0;34m,\u001b[0m \u001b[0;36m45.565277\u001b[0m\u001b[0;34m,\u001b[0m \u001b[0;34m-\u001b[0m\u001b[0;36m73.678172\u001b[0m\u001b[0;34m)\u001b[0m\u001b[0;34m\u001b[0m\u001b[0;34m\u001b[0m\u001b[0m\n\u001b[0m",
      "\u001b[0;32m/usr/local/lib/python3.7/site-packages/osmapi/OsmApi.py\u001b[0m in \u001b[0;36mMap\u001b[0;34m(self, min_lon, min_lat, max_lon, max_lat)\u001b[0m\n\u001b[1;32m   1711\u001b[0m             \u001b[0;34m%\u001b[0m \u001b[0;34m(\u001b[0m\u001b[0mmin_lon\u001b[0m\u001b[0;34m,\u001b[0m \u001b[0mmin_lat\u001b[0m\u001b[0;34m,\u001b[0m \u001b[0mmax_lon\u001b[0m\u001b[0;34m,\u001b[0m \u001b[0mmax_lat\u001b[0m\u001b[0;34m)\u001b[0m\u001b[0;34m\u001b[0m\u001b[0;34m\u001b[0m\u001b[0m\n\u001b[1;32m   1712\u001b[0m         )\n\u001b[0;32m-> 1713\u001b[0;31m         \u001b[0mdata\u001b[0m \u001b[0;34m=\u001b[0m \u001b[0mself\u001b[0m\u001b[0;34m.\u001b[0m\u001b[0m_get\u001b[0m\u001b[0;34m(\u001b[0m\u001b[0muri\u001b[0m\u001b[0;34m)\u001b[0m\u001b[0;34m\u001b[0m\u001b[0;34m\u001b[0m\u001b[0m\n\u001b[0m\u001b[1;32m   1714\u001b[0m         \u001b[0;32mreturn\u001b[0m \u001b[0mself\u001b[0m\u001b[0;34m.\u001b[0m\u001b[0mParseOsm\u001b[0m\u001b[0;34m(\u001b[0m\u001b[0mdata\u001b[0m\u001b[0;34m)\u001b[0m\u001b[0;34m\u001b[0m\u001b[0;34m\u001b[0m\u001b[0m\n\u001b[1;32m   1715\u001b[0m \u001b[0;34m\u001b[0m\u001b[0m\n",
      "\u001b[0;32m/usr/local/lib/python3.7/site-packages/osmapi/OsmApi.py\u001b[0m in \u001b[0;36m_get\u001b[0;34m(self, path)\u001b[0m\n\u001b[1;32m   2032\u001b[0m \u001b[0;34m\u001b[0m\u001b[0m\n\u001b[1;32m   2033\u001b[0m     \u001b[0;32mdef\u001b[0m \u001b[0m_get\u001b[0m\u001b[0;34m(\u001b[0m\u001b[0mself\u001b[0m\u001b[0;34m,\u001b[0m \u001b[0mpath\u001b[0m\u001b[0;34m)\u001b[0m\u001b[0;34m:\u001b[0m\u001b[0;34m\u001b[0m\u001b[0;34m\u001b[0m\u001b[0m\n\u001b[0;32m-> 2034\u001b[0;31m         \u001b[0;32mreturn\u001b[0m \u001b[0mself\u001b[0m\u001b[0;34m.\u001b[0m\u001b[0m_http\u001b[0m\u001b[0;34m(\u001b[0m\u001b[0;34m'GET'\u001b[0m\u001b[0;34m,\u001b[0m \u001b[0mpath\u001b[0m\u001b[0;34m,\u001b[0m \u001b[0;32mFalse\u001b[0m\u001b[0;34m,\u001b[0m \u001b[0;32mNone\u001b[0m\u001b[0;34m)\u001b[0m\u001b[0;34m\u001b[0m\u001b[0;34m\u001b[0m\u001b[0m\n\u001b[0m\u001b[1;32m   2035\u001b[0m \u001b[0;34m\u001b[0m\u001b[0m\n\u001b[1;32m   2036\u001b[0m     \u001b[0;32mdef\u001b[0m \u001b[0m_put\u001b[0m\u001b[0;34m(\u001b[0m\u001b[0mself\u001b[0m\u001b[0;34m,\u001b[0m \u001b[0mpath\u001b[0m\u001b[0;34m,\u001b[0m \u001b[0mdata\u001b[0m\u001b[0;34m,\u001b[0m \u001b[0mreturn_value\u001b[0m\u001b[0;34m=\u001b[0m\u001b[0;32mTrue\u001b[0m\u001b[0;34m)\u001b[0m\u001b[0;34m:\u001b[0m\u001b[0;34m\u001b[0m\u001b[0;34m\u001b[0m\u001b[0m\n",
      "\u001b[0;32m/usr/local/lib/python3.7/site-packages/osmapi/OsmApi.py\u001b[0m in \u001b[0;36m_http\u001b[0;34m(self, cmd, path, auth, send, return_value)\u001b[0m\n\u001b[1;32m   1995\u001b[0m                     \u001b[0mauth\u001b[0m\u001b[0;34m,\u001b[0m\u001b[0;34m\u001b[0m\u001b[0;34m\u001b[0m\u001b[0m\n\u001b[1;32m   1996\u001b[0m                     \u001b[0msend\u001b[0m\u001b[0;34m,\u001b[0m\u001b[0;34m\u001b[0m\u001b[0;34m\u001b[0m\u001b[0m\n\u001b[0;32m-> 1997\u001b[0;31m                     \u001b[0mreturn_value\u001b[0m\u001b[0;34m=\u001b[0m\u001b[0mreturn_value\u001b[0m\u001b[0;34m\u001b[0m\u001b[0;34m\u001b[0m\u001b[0m\n\u001b[0m\u001b[1;32m   1998\u001b[0m                 )\n\u001b[1;32m   1999\u001b[0m             \u001b[0;32mexcept\u001b[0m \u001b[0mApiError\u001b[0m \u001b[0;32mas\u001b[0m \u001b[0me\u001b[0m\u001b[0;34m:\u001b[0m\u001b[0;34m\u001b[0m\u001b[0;34m\u001b[0m\u001b[0m\n",
      "\u001b[0;32m/usr/local/lib/python3.7/site-packages/osmapi/OsmApi.py\u001b[0m in \u001b[0;36m_http_request\u001b[0;34m(self, method, path, auth, send, return_value)\u001b[0m\n\u001b[1;32m   1969\u001b[0m                     \u001b[0mpayload\u001b[0m\u001b[0;34m\u001b[0m\u001b[0;34m\u001b[0m\u001b[0m\n\u001b[1;32m   1970\u001b[0m                 )\n\u001b[0;32m-> 1971\u001b[0;31m             \u001b[0;32mraise\u001b[0m \u001b[0mApiError\u001b[0m\u001b[0;34m(\u001b[0m\u001b[0mresponse\u001b[0m\u001b[0;34m.\u001b[0m\u001b[0mstatus_code\u001b[0m\u001b[0;34m,\u001b[0m \u001b[0mresponse\u001b[0m\u001b[0;34m.\u001b[0m\u001b[0mreason\u001b[0m\u001b[0;34m,\u001b[0m \u001b[0mpayload\u001b[0m\u001b[0;34m)\u001b[0m\u001b[0;34m\u001b[0m\u001b[0;34m\u001b[0m\u001b[0m\n\u001b[0m\u001b[1;32m   1972\u001b[0m         \u001b[0;32mif\u001b[0m \u001b[0mreturn_value\u001b[0m \u001b[0;32mand\u001b[0m \u001b[0;32mnot\u001b[0m \u001b[0mresponse\u001b[0m\u001b[0;34m.\u001b[0m\u001b[0mcontent\u001b[0m\u001b[0;34m:\u001b[0m\u001b[0;34m\u001b[0m\u001b[0;34m\u001b[0m\u001b[0m\n\u001b[1;32m   1973\u001b[0m             raise ResponseEmptyApiError(\n",
      "\u001b[0;31mApiError\u001b[0m: Request failed: 400 - Bad Request - b'The latitudes must be between -90 and 90, longitudes between -180 and 180 and the minima must be less than the maxima.'"
     ]
    }
   ],
   "source": [
    "api.Map(45.555277, -73.668172, 45.565277, -73.678172)"
   ]
  },
  {
   "cell_type": "code",
   "execution_count": 60,
   "metadata": {},
   "outputs": [
    {
     "data": {
      "text/plain": [
       "{'version': {'minimum': 0.6, 'maximum': 0.6},\n",
       " 'area': {'maximum': 0.25},\n",
       " 'note_area': {'maximum': 25.0},\n",
       " 'tracepoints': {'per_page': 5000.0},\n",
       " 'waynodes': {'maximum': 2000.0},\n",
       " 'changesets': {'maximum_elements': 10000.0},\n",
       " 'timeout': {'seconds': 300.0},\n",
       " 'status': {'database': 'online', 'api': 'online', 'gpx': 'online'}}"
      ]
     },
     "execution_count": 60,
     "metadata": {},
     "output_type": "execute_result"
    }
   ],
   "source": [
    "api."
   ]
  },
  {
   "cell_type": "code",
   "execution_count": null,
   "metadata": {},
   "outputs": [],
   "source": [
    "stp_times.get_times(trip.trip_id)"
   ]
  },
  {
   "cell_type": "code",
   "execution_count": 8,
   "metadata": {},
   "outputs": [],
   "source": [
    "class calendar_dates(object):\n",
    "    \n",
    "    def __init__(self, filename):\n",
    "        self._filename = filename\n",
    "        self.load()\n",
    "    \n",
    "    def load(self):\n",
    "        with open(self._filename, 'rt') as f:\n",
    "            d = f.read()\n",
    "            lines = d.split('\\n')\n",
    "        fields = lines[0].split(',')\n",
    "        self._calendar_dates = []\n",
    "        for l in lines[1:]:\n",
    "            if l:\n",
    "                record = l.split(',')\n",
    "                c = calendar_date(fields, record)\n",
    "                self._calendar_dates.append(c)\n",
    "    \n",
    "    @property\n",
    "    def calendar_dates(self):\n",
    "        return self._calendar_dates\n",
    "            \n",
    "        \n",
    "class calendar_date(object):\n",
    "    \n",
    "    def __init__(self, fields, record):\n",
    "        self._fields = fields\n",
    "        self._record = record\n",
    "        self.load()\n",
    "    \n",
    "    def load(self):\n",
    "        self._values = {}\n",
    "        for i in range(len(self._record)):\n",
    "            value = self._record[i]\n",
    "            field = self._fields[i]\n",
    "            self.__dict__[field] = value\n",
    "            self._values[field] = value\n",
    "\n",
    "    def __repr__(self):\n",
    "        return self.service_id\t + ' - ' + self.date\n",
    "    \n",
    "    def __str__(self):\n",
    "        return self.service_id\t + ' - ' + self.date"
   ]
  },
  {
   "cell_type": "code",
   "execution_count": 9,
   "metadata": {},
   "outputs": [],
   "source": [
    "cld = calendar_dates('./calendar_dates.txt')"
   ]
  },
  {
   "cell_type": "code",
   "execution_count": null,
   "metadata": {},
   "outputs": [],
   "source": [
    "cld.calendar_dates"
   ]
  },
  {
   "cell_type": "code",
   "execution_count": 11,
   "metadata": {},
   "outputs": [],
   "source": [
    "class fare_attributes(object):\n",
    "    \n",
    "    def __init__(self, filename):\n",
    "        self._filename = filename\n",
    "        self.load()\n",
    "    \n",
    "    def load(self):\n",
    "        with open(self._filename, 'rt') as f:\n",
    "            d = f.read()\n",
    "            lines = d.split('\\n')\n",
    "        fields = lines[0].split(',')\n",
    "        self._fare_attributes = []\n",
    "        for l in lines[1:]:\n",
    "            if l:\n",
    "                record = l.split(',')\n",
    "                f = fare_attribute(fields, record)\n",
    "                self._fare_attributes.append(f)\n",
    "    \n",
    "    @property\n",
    "    def fare_attributes(self):\n",
    "        return self._fare_attributes\n",
    "            \n",
    "        \n",
    "class fare_attribute(object):\n",
    "    \n",
    "    def __init__(self, fields, record):\n",
    "        self._fields = fields\n",
    "        self._record = record\n",
    "        self.load()\n",
    "    \n",
    "    def load(self):\n",
    "        self._values = {}\n",
    "        for i in range(len(self._record)):\n",
    "            value = self._record[i]\n",
    "            field = self._fields[i]\n",
    "            self.__dict__[field] = value\n",
    "            self._values[field] = value\n",
    "\n",
    "    def __repr__(self):\n",
    "        return self.fare_id\t + ' - ' + self.price\n",
    "    \n",
    "    def __str__(self):\n",
    "        return self.fare_id\t + ' - ' + self.price"
   ]
  },
  {
   "cell_type": "code",
   "execution_count": 12,
   "metadata": {},
   "outputs": [],
   "source": [
    "fas = fare_attributes('./fare_attributes.txt')"
   ]
  },
  {
   "cell_type": "code",
   "execution_count": 13,
   "metadata": {},
   "outputs": [
    {
     "data": {
      "text/plain": [
       "[13S_747 - 10.00, 13S_REG - 3.25]"
      ]
     },
     "execution_count": 13,
     "metadata": {},
     "output_type": "execute_result"
    }
   ],
   "source": [
    "fas.fare_attributes"
   ]
  },
  {
   "cell_type": "code",
   "execution_count": 14,
   "metadata": {},
   "outputs": [],
   "source": [
    "class fare_rules(object):\n",
    "    \n",
    "    def __init__(self, filename):\n",
    "        self._filename = filename\n",
    "        self.load()\n",
    "    \n",
    "    def load(self):\n",
    "        with open(self._filename, 'rt') as f:\n",
    "            d = f.read()\n",
    "            lines = d.split('\\n')\n",
    "        fields = lines[0].split(',')\n",
    "        self._fare_rules = []\n",
    "        for l in lines[1:]:\n",
    "            if l:\n",
    "                record = l.split(',')\n",
    "                f = fare_rule(fields, record)\n",
    "                self._fare_rules.append(f)\n",
    "    \n",
    "    @property\n",
    "    def fare_rules(self):\n",
    "        return self._fare_rules\n",
    "            \n",
    "        \n",
    "class fare_rule(object):\n",
    "    \n",
    "    def __init__(self, fields, record):\n",
    "        self._fields = fields\n",
    "        self._record = record\n",
    "        self.load()\n",
    "    \n",
    "    def load(self):\n",
    "        self._values = {}\n",
    "        for i in range(len(self._record)):\n",
    "            value = self._record[i]\n",
    "            field = self._fields[i]\n",
    "            self.__dict__[field] = value\n",
    "            self._values[field] = value\n",
    "\n",
    "    def __repr__(self):\n",
    "        return self.fare_id\t + ' - ' + self.route_id\n",
    "    \n",
    "    def __str__(self):\n",
    "        return self.fare_id\t + ' - ' + self.route_id"
   ]
  },
  {
   "cell_type": "code",
   "execution_count": 15,
   "metadata": {},
   "outputs": [],
   "source": [
    "frs = fare_rules('./fare_rules.txt')"
   ]
  },
  {
   "cell_type": "code",
   "execution_count": null,
   "metadata": {},
   "outputs": [],
   "source": [
    "frs.fare_rules"
   ]
  },
  {
   "cell_type": "code",
   "execution_count": 17,
   "metadata": {},
   "outputs": [],
   "source": [
    "class frequencies(object):\n",
    "    \n",
    "    def __init__(self, filename):\n",
    "        self._filename = filename\n",
    "        self.load()\n",
    "    \n",
    "    def load(self):\n",
    "        with open(self._filename, 'rt') as f:\n",
    "            d = f.read()\n",
    "            lines = d.split('\\n')\n",
    "        fields = lines[0].split(',')\n",
    "        self._frequencies = []\n",
    "        for l in lines[1:]:\n",
    "            if l:\n",
    "                record = l.split(',')\n",
    "                f = frequencie(fields, record)\n",
    "                self._frequencies.append(f)\n",
    "    \n",
    "    @property\n",
    "    def frequencies(self):\n",
    "        return self._frequencies\n",
    "            \n",
    "        \n",
    "class frequencie(object):\n",
    "    \n",
    "    def __init__(self, fields, record):\n",
    "        self._fields = fields\n",
    "        self._record = record\n",
    "        self.load()\n",
    "    \n",
    "    def load(self):\n",
    "        self._values = {}\n",
    "        for i in range(len(self._record)):\n",
    "            value = self._record[i]\n",
    "            field = self._fields[i]\n",
    "            self.__dict__[field] = value\n",
    "            self._values[field] = value\n",
    "\n",
    "    def __repr__(self):\n",
    "        return self.trip_id\t + ' - ' + self.start_time\n",
    "    \n",
    "    def __str__(self):\n",
    "        return self.trip_id\t + ' - ' + self.start_time"
   ]
  },
  {
   "cell_type": "code",
   "execution_count": 18,
   "metadata": {},
   "outputs": [],
   "source": [
    "fs = frequencies('./frequencies.txt')"
   ]
  },
  {
   "cell_type": "code",
   "execution_count": null,
   "metadata": {},
   "outputs": [],
   "source": [
    "fs.frequencies"
   ]
  },
  {
   "cell_type": "code",
   "execution_count": 26,
   "metadata": {},
   "outputs": [],
   "source": [
    "class shapes(object):\n",
    "    \n",
    "    def __init__(self, filename):\n",
    "        self._filename = filename\n",
    "        self.load()\n",
    "    \n",
    "    def load(self):\n",
    "        with open(self._filename, 'rt') as f:\n",
    "            d = f.read()\n",
    "            lines = d.split('\\n')\n",
    "        fields = lines[0].split(',')\n",
    "        self._shapes = {}\n",
    "        for l in lines[1:]:\n",
    "            if l:\n",
    "                record = l.split(',')\n",
    "                f = shape(fields, record)\n",
    "                if f.shape_id not in self._shapes:\n",
    "                    self._shapes[f.shape_id] = []\n",
    "                self._shapes[f.shape_id].append(f)\n",
    "    \n",
    "    @property\n",
    "    def shapes(self):\n",
    "        return self._shapes\n",
    "            \n",
    "        \n",
    "class shape(object):\n",
    "    \n",
    "    def __init__(self, fields, record):\n",
    "        self._fields = fields\n",
    "        self._record = record\n",
    "        self.load()\n",
    "    \n",
    "    def load(self):\n",
    "        self._values = {}\n",
    "        for i in range(len(self._record)):\n",
    "            value = self._record[i]\n",
    "            field = self._fields[i]\n",
    "            self.__dict__[field] = value\n",
    "            self._values[field] = value\n",
    "\n",
    "    def __repr__(self):\n",
    "        return self.shape_id\t + ' - ' + self.shape_pt_lat\n",
    "    \n",
    "    def __str__(self):\n",
    "        return self.shape_id\t + ' - ' + self.shape_pt_lat"
   ]
  },
  {
   "cell_type": "code",
   "execution_count": 27,
   "metadata": {},
   "outputs": [],
   "source": [
    "shps = shapes('./shapes.txt')"
   ]
  },
  {
   "cell_type": "code",
   "execution_count": null,
   "metadata": {},
   "outputs": [],
   "source": [
    "for s in shps.shapes:\n",
    "    print(s, len(shps.shapes[s]))"
   ]
  },
  {
   "cell_type": "code",
   "execution_count": 51,
   "metadata": {},
   "outputs": [],
   "source": [
    "import datetime"
   ]
  },
  {
   "cell_type": "code",
   "execution_count": 54,
   "metadata": {},
   "outputs": [
    {
     "data": {
      "text/plain": [
       "datetime.datetime(2019, 3, 4, 20, 17, 13, 973751)"
      ]
     },
     "execution_count": 54,
     "metadata": {},
     "output_type": "execute_result"
    }
   ],
   "source": [
    "datetime.datetime.now()+datetime.timedelta(1)"
   ]
  },
  {
   "cell_type": "code",
   "execution_count": 53,
   "metadata": {},
   "outputs": [
    {
     "data": {
      "text/plain": [
       "datetime.timedelta(days=1)"
      ]
     },
     "execution_count": 53,
     "metadata": {},
     "output_type": "execute_result"
    }
   ],
   "source": [
    "datetime.timedelta(1)"
   ]
  },
  {
   "cell_type": "code",
   "execution_count": null,
   "metadata": {},
   "outputs": [],
   "source": []
  }
 ],
 "metadata": {
  "kernelspec": {
   "display_name": "Python 3",
   "language": "python",
   "name": "python3"
  },
  "language_info": {
   "codemirror_mode": {
    "name": "ipython",
    "version": 3
   },
   "file_extension": ".py",
   "mimetype": "text/x-python",
   "name": "python",
   "nbconvert_exporter": "python",
   "pygments_lexer": "ipython3",
   "version": "3.7.1"
  }
 },
 "nbformat": 4,
 "nbformat_minor": 2
}
